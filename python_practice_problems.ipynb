{
  "nbformat": 4,
  "nbformat_minor": 0,
  "metadata": {
    "colab": {
      "provenance": []
    },
    "kernelspec": {
      "name": "python3",
      "display_name": "Python 3"
    },
    "language_info": {
      "name": "python"
    }
  },
  "cells": [
    {
      "cell_type": "markdown",
      "source": [
        "### `Problem-1:` Breaking the records.\n",
        "\n",
        "Maria plays college basketball and wants to go pro. Each season she maintains a record of her play. She tabulates the number of times she breaks her season record for most points and least points in a game. Points scored in the first game establish her record for the season, and she begins counting from there.\n",
        "\n",
        "**Example**\n",
        "\n",
        "*scores = [12, 24, 10, 24]*\n",
        "\n",
        "Scores are in the same order as the games played. She tabulates her results as follows:\n",
        "\n",
        "| Game | Score | Minimum | Maximum | Count Min | Count Max |\n",
        "| :--: | :--: | :--: | :--: | :--: | :--: |\n",
        "| 0 | 12 | 12 | 12 | 0 | 0 |\n",
        "| 1 | 24 | 12 | 24 | 0 | 1 |\n",
        "| 2 | 10 | 10 | 24 | 1 | 1 |\n",
        "| 3 | 24 | 10 | 24 | 1 | 1 |\n",
        "\n",
        "Given the scores for a season, determine the number of times Maria breaks her records for most and least points scored during the season.\n",
        "\n",
        "**Function Description**\n",
        "\n",
        "Complete the breakingRecords function in the editor below.\n",
        "\n",
        "breakingRecords has the following parameter(s):\n",
        "- n: no of games \n",
        "- int scores[n]: points scored per game \n",
        "\n",
        "**Returns**\n",
        "\n",
        "- int[2]: An array with the numbers of times she broke her records. Index 0 is for breaking most points records, and index 1 is for breaking least points records.\n",
        "\n",
        "**Input Format**\n",
        "\n",
        "n, the number of games. \n",
        "Integers array osf scores describing the respective values of $score_0, score_1, score_2, ..., score_{n-1}$.\n",
        "\n",
        "**Constraints**\n",
        "\n",
        "- $1 <= n <= 1000$\n",
        "- $0 <= scores[i] <= 10^8$\n",
        "\n",
        "**Sample Input 0**\n",
        "\n",
        "```bash\n",
        "10 5 20 20 4 5 2 25 1\n",
        "```\n",
        "\n",
        "**Sample Output 0**\n",
        "\n",
        "```bash\n",
        "2 4\n",
        "```\n",
        "\n",
        "**Explanation 0**\n",
        "\n",
        "The diagram below depicts the number of times Maria broke her best and worst records throughout the season:\n",
        "\n",
        "| Games | 0 | 1 | 2 | 3 | 4 | 5 | 6 | 7 | 8 |\n",
        "| :--: | :--: | :--: | :--: | :--: | :--: | :--: | :--: | :--: | :--: |\n",
        "| **Score** | 10 | 5 | 20 | 20 | 4 | 5 | 2 | 25 | 1 |\n",
        "| **Highest Score** | 10 | 10 | **20** | 20 | 20 | 20 | 20 | **25** | 25 |\n",
        "| **Lowest Score** | 10 | **5** | 5 | 5 | **4** | 4 | **2** | 2 | **1** |\n",
        "\n",
        "She broke her best record twice (after games 2 and 7) and her worst record four times (after games 1, 4, 6, and 8), so we print 2 4 as our answer. Note that she did not break her record for best score during game 3, as her score during that game was not strictly greater than her best record at the time."
      ],
      "metadata": {
        "id": "M8RAg95gpcAJ"
      }
    },
    {
      "cell_type": "code",
      "execution_count": null,
      "metadata": {
        "id": "C3rrD4VxpUDr"
      },
      "outputs": [],
      "source": [
        "#Solution\n",
        "\n",
        "def breakingRecords(n, scores):\n",
        "    # Write your code here\n",
        "    # Write your code here\n",
        "    result = [0,0]\n",
        "    t = scores[0]\n",
        "    a = t\n",
        "    b = t\n",
        "    for i in scores:\n",
        "        if i > a:\n",
        "            result[0] = result[0]+1\n",
        "            a = i\n",
        "        if i < b:\n",
        "            result[1] = result[1]+1\n",
        "            b = i\n",
        "    return result\n",
        "\n",
        "\n",
        "scores = [9, 10, 5, 20, 20, 4, 5, 2, 25, 1]\n",
        "n=len(scores)\n",
        "result = breakingRecords(n, scores)"
      ]
    },
    {
      "cell_type": "markdown",
      "source": [
        "### `Problem-2:` Student management system in Python\n",
        "\n",
        "Write a program to build a simple Student Management System using Python which can perform the following operations:\n",
        "1. **Accept -** This method takes details from the user like name, roll number, and marks for two different subjects.\n",
        "2. **Display -** This method displays the details of every student.\n",
        "3. **Search -** This method searches for a particular student from the list of students. This method will ask the user for roll number and then search according to the roll number\n",
        "4. **Delete -** This method deletes the record of a particular student with a matching roll number.\n",
        "5. **Update -**  This method updates the roll number of the student. This method will ask for the old roll number and new roll number. It will replace the old roll number with a new roll number."
      ],
      "metadata": {
        "id": "XYUQoOLpRkjc"
      }
    },
    {
      "cell_type": "code",
      "source": [
        "class Student:\n",
        "    # Constructor\n",
        "    def __init__(self, name, rollno, m1, m2):\n",
        "        self.name = name\n",
        "        self.rollno = rollno\n",
        "        self.m1 = m1\n",
        "        self.m2 = m2\n",
        "\n",
        "    # Function to create and append new student\n",
        "    def accept(self, Name, Rollno, marks1, marks2):\n",
        "\n",
        "        # use ' int(input()) ' method to take input from user\n",
        "        ob = Student(Name, Rollno, marks1, marks2)\n",
        "        ls.append(ob)\n",
        "\n",
        "    # Function to display student details\n",
        "    def display(self, ob):\n",
        "        print(\"Name : \", ob.name)\n",
        "        print(\"RollNo : \", ob.rollno)\n",
        "        print(\"Marks1 : \", ob.m1)\n",
        "        print(\"Marks2 : \", ob.m2)\n",
        "        print(\"\\n\")\n",
        "\n",
        "    # Search Function\n",
        "    def search(self, rn):\n",
        "        for i in range(ls.__len__()):\n",
        "            if(ls[i].rollno == rn):\n",
        "                return i\n",
        "\n",
        "    # Delete Function\n",
        "    def delete(self, rn):\n",
        "        i = obj.search(rn)\n",
        "        del ls[i]\n",
        "\n",
        "    # Update Function\n",
        "    def update(self, rn, No):\n",
        "        i = obj.search(rn)\n",
        "        roll = No\n",
        "        ls[i].rollno = roll\n",
        "\n",
        "\n",
        "# Create a list to add Students\n",
        "ls = []\n",
        "# an object of Student class\n",
        "obj = Student('', 0, 0, 0)\n",
        "\n",
        "print(\"\\nOperations used, \")\n",
        "print(\"\\n1.Accept Student details\\n2.Display Student Details\\n3.Search Details of a Student\\n4.Delete Details of Student\\n5.Update Student Details\\n6.Exit\")\n",
        "\n",
        "# ch = int(input(\"Enter choice:\"))\n",
        "# if(ch == 1):\n",
        "obj.accept(\"A\", 1, 100, 100)\n",
        "obj.accept(\"B\", 2, 90, 90)\n",
        "obj.accept(\"C\", 3, 80, 80)\n",
        "\n",
        "# elif(ch == 2):\n",
        "print(\"\\n\")\n",
        "print(\"\\nList of Students\\n\")\n",
        "for i in range(ls.__len__()):\n",
        "    obj.display(ls[i])\n",
        "\n",
        "# elif(ch == 3):\n",
        "print(\"\\n Student Found, \")\n",
        "s = obj.search(2)\n",
        "obj.display(ls[s])\n",
        "\n",
        "# elif(ch == 4):\n",
        "obj.delete(2)\n",
        "print(ls.__len__())\n",
        "print(\"List after deletion\")\n",
        "for i in range(ls.__len__()):\n",
        "    obj.display(ls[i])\n",
        "\n",
        "# elif(ch == 5):\n",
        "obj.update(3, 2)\n",
        "print(ls.__len__())\n",
        "print(\"List after updation\")\n",
        "for i in range(ls.__len__()):\n",
        "    obj.display(ls[i])\n",
        "\n",
        "# else:\n",
        "print(\"Thank You !\")"
      ],
      "metadata": {
        "colab": {
          "base_uri": "https://localhost:8080/"
        },
        "id": "Vn75SSu6SXrv",
        "outputId": "c0f0c7da-13fa-4bdf-ad6c-e7cafaf48beb"
      },
      "execution_count": null,
      "outputs": [
        {
          "output_type": "stream",
          "name": "stdout",
          "text": [
            "\n",
            "Operations used, \n",
            "\n",
            "1.Accept Student details\n",
            "2.Display Student Details\n",
            "3.Search Details of a Student\n",
            "4.Delete Details of Student\n",
            "5.Update Student Details\n",
            "6.Exit\n",
            "\n",
            "\n",
            "\n",
            "List of Students\n",
            "\n",
            "Name :  A\n",
            "RollNo :  1\n",
            "Marks1 :  100\n",
            "Marks2 :  100\n",
            "\n",
            "\n",
            "Name :  B\n",
            "RollNo :  2\n",
            "Marks1 :  90\n",
            "Marks2 :  90\n",
            "\n",
            "\n",
            "Name :  C\n",
            "RollNo :  3\n",
            "Marks1 :  80\n",
            "Marks2 :  80\n",
            "\n",
            "\n",
            "\n",
            " Student Found, \n",
            "Name :  B\n",
            "RollNo :  2\n",
            "Marks1 :  90\n",
            "Marks2 :  90\n",
            "\n",
            "\n",
            "2\n",
            "List after deletion\n",
            "Name :  A\n",
            "RollNo :  1\n",
            "Marks1 :  100\n",
            "Marks2 :  100\n",
            "\n",
            "\n",
            "Name :  C\n",
            "RollNo :  3\n",
            "Marks1 :  80\n",
            "Marks2 :  80\n",
            "\n",
            "\n",
            "2\n",
            "List after updation\n",
            "Name :  A\n",
            "RollNo :  1\n",
            "Marks1 :  100\n",
            "Marks2 :  100\n",
            "\n",
            "\n",
            "Name :  C\n",
            "RollNo :  2\n",
            "Marks1 :  80\n",
            "Marks2 :  80\n",
            "\n",
            "\n",
            "Thank You !\n"
          ]
        }
      ]
    },
    {
      "cell_type": "markdown",
      "source": [
        "### `Problem-3:` Get current times of different time zones in Python."
      ],
      "metadata": {
        "id": "OH8MH7GFSgpu"
      }
    },
    {
      "cell_type": "code",
      "source": [
        "from datetime import datetime\n",
        "import pytz\n",
        "# get the standard UTC time \n",
        "UTC = pytz.utc\n",
        "# it will get the time zone \n",
        "# of the specified location\n",
        "IST = pytz.timezone('Asia/Kolkata')\n",
        "# print the date and time in standard format\n",
        "print(\"UTC in Default Format : \", datetime.now(UTC))\n",
        "print(\"IST in Default Format : \", datetime.now(IST))\n",
        "# print the date and time in \n",
        "# specified format\n",
        "datetime_utc = datetime.now(UTC)\n",
        "print(\"Date & Time in UTC : \", datetime_utc.strftime('%Y:%m:%d %H:%M:%S %Z %z'))\n",
        "datetime_ist = datetime.now(IST)\n",
        "print(\"Date & Time in IST : \", datetime_ist.strftime('%Y:%m:%d %H:%M:%S %Z %z'))"
      ],
      "metadata": {
        "colab": {
          "base_uri": "https://localhost:8080/"
        },
        "id": "6TgMQiE4SYZP",
        "outputId": "d2ac5a1c-3c97-4aef-f039-9667fa3c436e"
      },
      "execution_count": null,
      "outputs": [
        {
          "output_type": "stream",
          "name": "stdout",
          "text": [
            "UTC in Default Format :  2022-12-11 13:09:56.229316+00:00\n",
            "IST in Default Format :  2022-12-11 18:39:56.231325+05:30\n",
            "Date & Time in UTC :  2022:12:11 13:09:56 UTC +0000\n",
            "Date & Time in IST :  2022:12:11 18:39:56 IST +0530\n"
          ]
        }
      ]
    },
    {
      "cell_type": "markdown",
      "source": [
        "# `Problem-4:` Python program to count Even and Odd numbers in a List using list comprehension.\n",
        "\n",
        "Given a list of numbers, write a Python program to count Even and Odd numbers in a List.\n",
        "\n",
        "**Example:**\n",
        "\n",
        "```bash\n",
        "Input: list1 = [2, 7, 5, 64, 14]\n",
        "Output: Even = 3, odd = 2\n",
        "\n",
        "Input: list2 = [12, 14, 95, 3]\n",
        "Output: Even = 2, odd = 2\n",
        "```"
      ],
      "metadata": {
        "id": "rjkySf5DTqHW"
      }
    },
    {
      "cell_type": "code",
      "source": [
        "list1 = [10, 21, 4, 45, 66, 93, 11]\n",
        "\n",
        "only_odd = [num for num in list1 if num % 2 == 1]\n",
        "odd_count = len(only_odd)\n",
        "\n",
        "print(\"Even numbers in the list: \", len(list1) - odd_count)\n",
        "print(\"Odd numbers in the list: \", odd_count)"
      ],
      "metadata": {
        "colab": {
          "base_uri": "https://localhost:8080/"
        },
        "id": "qPgNKSQKTVbO",
        "outputId": "5cb8d78a-c457-4046-8a02-4a2de1414dcf"
      },
      "execution_count": null,
      "outputs": [
        {
          "output_type": "stream",
          "name": "stdout",
          "text": [
            "Even numbers in the list:  3\n",
            "Odd numbers in the list:  4\n"
          ]
        }
      ]
    },
    {
      "cell_type": "markdown",
      "source": [
        "### `Problem-5:` Alphabet Rangoli\n",
        "\n",
        "You are given an integer, $N$. Your task is to print an alphabet rangoli of size\n",
        "\n",
        "$N$. (Rangoli is a form of Indian folk art based on creation of patterns.)\n",
        "\n",
        "Different sizes of alphabet rangoli are shown below:\n",
        "\n",
        "```bash\n",
        "#size 3\n",
        "\n",
        "----c----\n",
        "--c-b-c--\n",
        "c-b-a-b-c\n",
        "--c-b-c--\n",
        "----c----\n",
        "\n",
        "#size 5\n",
        "\n",
        "--------e--------\n",
        "------e-d-e------\n",
        "----e-d-c-d-e----\n",
        "--e-d-c-b-c-d-e--\n",
        "e-d-c-b-a-b-c-d-e\n",
        "--e-d-c-b-c-d-e--\n",
        "----e-d-c-d-e----\n",
        "------e-d-e------\n",
        "--------e--------\n",
        "\n",
        "#size 10\n",
        "\n",
        "------------------j------------------\n",
        "----------------j-i-j----------------\n",
        "--------------j-i-h-i-j--------------\n",
        "------------j-i-h-g-h-i-j------------\n",
        "----------j-i-h-g-f-g-h-i-j----------\n",
        "--------j-i-h-g-f-e-f-g-h-i-j--------\n",
        "------j-i-h-g-f-e-d-e-f-g-h-i-j------\n",
        "----j-i-h-g-f-e-d-c-d-e-f-g-h-i-j----\n",
        "--j-i-h-g-f-e-d-c-b-c-d-e-f-g-h-i-j--\n",
        "j-i-h-g-f-e-d-c-b-a-b-c-d-e-f-g-h-i-j\n",
        "--j-i-h-g-f-e-d-c-b-c-d-e-f-g-h-i-j--\n",
        "----j-i-h-g-f-e-d-c-d-e-f-g-h-i-j----\n",
        "------j-i-h-g-f-e-d-e-f-g-h-i-j------\n",
        "--------j-i-h-g-f-e-f-g-h-i-j--------\n",
        "----------j-i-h-g-f-g-h-i-j----------\n",
        "------------j-i-h-g-h-i-j------------\n",
        "--------------j-i-h-i-j--------------\n",
        "----------------j-i-j----------------\n",
        "------------------j------------------\n",
        "```\n",
        "\n",
        "The center of the rangoli has the first alphabet letter a, and the boundary has the $N^{th}$alphabet letter (in alphabetical order). "
      ],
      "metadata": {
        "id": "7_UwtTGoUWXX"
      }
    },
    {
      "cell_type": "code",
      "source": [
        "def print_rangoli(size):\n",
        "    # your code goes here\n",
        "    for i in range(size):\n",
        "        s = \"-\".join(chr(ord('a')+size-j-1) for j in range(i+1))\n",
        "        print((s+s[::-1][1:]).center(4*size-3, \"-\"))\n",
        "    for i in range(size-1):\n",
        "        s = \"-\".join(chr(ord('a')+size-j-1) for j in range(size-i-1))\n",
        "        print((s+s[::-1][1:]).center(4*size-3, \"-\"))\n",
        "\n",
        "if __name__ == '__main__':\n",
        "    n = int(input())\n",
        "    print_rangoli(n)"
      ],
      "metadata": {
        "colab": {
          "base_uri": "https://localhost:8080/"
        },
        "id": "0TDMcQzfUS0f",
        "outputId": "d2183673-b6d4-4aba-dbec-210cc938193a"
      },
      "execution_count": null,
      "outputs": [
        {
          "output_type": "stream",
          "name": "stdout",
          "text": [
            "7\n",
            "------------g------------\n",
            "----------g-f-g----------\n",
            "--------g-f-e-f-g--------\n",
            "------g-f-e-d-e-f-g------\n",
            "----g-f-e-d-c-d-e-f-g----\n",
            "--g-f-e-d-c-b-c-d-e-f-g--\n",
            "g-f-e-d-c-b-a-b-c-d-e-f-g\n",
            "--g-f-e-d-c-b-c-d-e-f-g--\n",
            "----g-f-e-d-c-d-e-f-g----\n",
            "------g-f-e-d-e-f-g------\n",
            "--------g-f-e-f-g--------\n",
            "----------g-f-g----------\n",
            "------------g------------\n"
          ]
        }
      ]
    },
    {
      "cell_type": "markdown",
      "source": [
        "### `Problem-6:` Compress a string!\n",
        "\n",
        "You are given a string $S$. Suppose a character '$c$' occurs consecutively $X$ times in the string. Replace these consecutive occurrences of the character '$c$' with $$(X, c) in the string. For a better understanding of the problem, check the explanation. \n",
        "\n",
        "**Input Format:**\n",
        "\n",
        "A single line of input consisting of the string $S$.\n",
        "\n",
        "**Output Format:**\n",
        "\n",
        "A single line of output consisting of the modified string.\n",
        "\n",
        "**Sample Input:**\n",
        "\n",
        "```bash\n",
        "1222311\n",
        "```\n",
        "\n",
        "**Sample Output:**\n",
        "\n",
        "```bash\n",
        "(1, 1) (3, 2) (1, 3) (2, 1)\n",
        "```\n",
        "\n",
        "**Explanation:**\n",
        "\n",
        "First, the character occurs only once. It is replaced by (1, 1). Then the character 2 occurs three times, and it is replaced by (3, 2 )and so on. Also, note the single space within each compression and between the compressions. "
      ],
      "metadata": {
        "id": "WraJ_bhdVkXO"
      }
    },
    {
      "cell_type": "code",
      "source": [
        "s = input()\n",
        "occurrences = {}\n",
        "alloccurrences = []\n",
        "occurrences[s[0]] = 0\n",
        "for i in s:\n",
        "    if (i in occurrences):\n",
        "        occurrences[i] =  occurrences[i] + 1\n",
        "    else :\n",
        "        (k, v), = occurrences.items()\n",
        "        alloccurrences.append(str((v,int(k))))\n",
        "        occurrences.clear()\n",
        "        occurrences[i] = 1\n",
        "(k, v), = occurrences.items()\n",
        "alloccurrences.append(str((v,int(k))))\n",
        "print(' '.join(alloccurrences))"
      ],
      "metadata": {
        "id": "5gSMPKBcVdfe"
      },
      "execution_count": null,
      "outputs": []
    },
    {
      "cell_type": "markdown",
      "source": [
        "### `Problem-7:` Word order\n",
        "\n",
        "You are given words. Some words may repeat. For each word, output its number of occurrences. The output order should correspond with the input order of appearance of the word. See the sample input/output for clarification.\n",
        "\n",
        "*Note: Each input line ends with a **\"\\n\"** character.*\n",
        "\n",
        "**Input Format:**\n",
        "\n",
        "The first line contains the integer, $n$.\n",
        "\n",
        "The next $n$ lines each contain a word. \n",
        "\n",
        "**Output Format:**\n",
        "\n",
        "Output $2$ lines.\n",
        "\n",
        "On the first line, output the number of distinct words from the input.\n",
        "\n",
        "On the second line, output the number of occurrences for each distinct word according to their appearance in the input.\n",
        "\n",
        "**Sample Input:**\n",
        "\n",
        "```bash\n",
        "4\n",
        "bcdef\n",
        "abcdefg\n",
        "bcde\n",
        "bcdef\n",
        "```\n",
        "\n",
        "**Sample output:**\n",
        "\n",
        "```bash\n",
        "3\n",
        "2 1 1\n",
        "```\n",
        "\n",
        "**Explanation:**\n",
        "\n",
        "There are $3$ distinct words. Here, \"bcdef\" appears twice in the input at the first and last positions. The other words appear once each. The order of the first appearances are \"bcdef\", \"abcdefg\" and \"bcde\" which corresponds to the output."
      ],
      "metadata": {
        "id": "46qx4y07W709"
      }
    },
    {
      "cell_type": "code",
      "source": [
        "from collections import Counter\n",
        "l = []\n",
        "for i in range(int(input())):\n",
        "    l.append(input())\n",
        "x = Counter(l)\n",
        "print(len(x))\n",
        "print(*x.values())"
      ],
      "metadata": {
        "colab": {
          "base_uri": "https://localhost:8080/"
        },
        "id": "yriUqA20YGVO",
        "outputId": "fc732bc6-6a66-43e0-8272-3486dbc66bbf"
      },
      "execution_count": null,
      "outputs": [
        {
          "output_type": "stream",
          "name": "stdout",
          "text": [
            "4\n",
            "bcdef\n",
            "abcdefg\n",
            "bcde\n",
            "bcdef\n",
            "3\n",
            "2 1 1\n"
          ]
        }
      ]
    },
    {
      "cell_type": "markdown",
      "source": [
        "### `Problem-8:`Iterables & Iterators\n",
        "\n",
        "You are given a list of $N$ lowercase English letters. For a given integer $K$, you can select any $K$ indices (assume 1-based indexing) with a uniform probability from the list. Find the probability that at least one of the $K$ indices selected will contain the letter '$a$'.\n",
        "\n",
        "**Input Format:**\n",
        "\n",
        "The input consists of three lines. The first line contains the integer $N$, enoting the length of the list. The next line consists of &N& space-separated lowercase English letters, denoting the elements of the list.\n",
        "\n",
        "The third and the last line of input contains the integer $K$, denoting the number of indices to be selected.\n",
        "\n",
        "**Output Format:**\n",
        "\n",
        "Output a single line consisting of the probability that at least one of the $K$ indices selected contains the letter '$a$'.\n",
        "\n",
        "Note: The answer must be correct up to 3 decimal places.\n",
        "\n",
        "**Sample Input:**\n",
        "\n",
        "```bash\n",
        "4 \n",
        "a a c d\n",
        "2\n",
        "```\n",
        "\n",
        "**Sample Output:**\n",
        "\n",
        "```bash\n",
        "0.8333\n",
        "```\n",
        "\n",
        "**Explanation:**\n",
        "\n",
        "All possible unordered tuples of length 2 comprising of indices from 1 to 4 are:\n",
        "(1, 2), (1, 3), (1, 4), (2, 3), (2, 4), (3, 4)\n",
        "\n",
        "Out of these 6 combinations, 5 of them contain either index 1 or index 2 which are the indices that contain the letter '$a$'. Hence, the answer is $\\frac{5}{6}$"
      ],
      "metadata": {
        "id": "9E88T1ONYWtF"
      }
    },
    {
      "cell_type": "code",
      "source": [
        "from itertools import combinations as cm\n",
        "n = int(input())\n",
        "s = list(input().split(\" \"))\n",
        "k = int(input())\n",
        "l=[\"\".join(word) for word in list(cm(s,k))]\n",
        "x,y=0,len(l)\n",
        "for word in l:\n",
        "    x+=1 if 'a' in word else 0\n",
        "print(x/y)"
      ],
      "metadata": {
        "id": "NoXfLxvnYK1-"
      },
      "execution_count": null,
      "outputs": []
    },
    {
      "cell_type": "markdown",
      "source": [
        "### `Problem-9:` The Captain's Room\n",
        "\n",
        "Mr. Anant Asankhya is the manager at the INFINITE hotel. The hotel has an infinite amount of rooms.\n",
        "\n",
        "One fine day, a finite number of tourists come to stay at the hotel.\n",
        "The tourists consist of:\n",
        "\n",
        "→ A Captain.\n",
        "\n",
        "→ An unknown group of families consisting of $K$ members per group where $K ≠ 1$\n",
        "\n",
        "The Captain was given a separate room, and the rest were given one room per group.\n",
        "\n",
        "Mr. Anant has an unordered list of randomly arranged room entries. The list consists of the room numbers for all of the tourists. The room numbers will appear $K$ times per group except for the Captain's room.\n",
        "\n",
        "Mr. Anant needs you to help him find the Captain's room number.\n",
        "The total number of tourists or the total number of groups of families is not known to you. You only know the value of $K$ and the room number list.\n",
        "\n",
        "**Input Format:**\n",
        "\n",
        "The first line consists of an integer, $K$, the size of each group.\n",
        "\n",
        "The second line contains the unordered elements of the room number list.\n",
        "\n",
        "**Output Format:**\n",
        "\n",
        "Output the Captain's room number.\n",
        "\n",
        "**Sample Input:**\n",
        "```bash\n",
        "5\n",
        "1 2 3 6 5 4 4 2 5 3 6 1 6 5 3 2 4 1 2 5 1 4 3 6 8 4 3 1 5 6 2 \n",
        "```\n",
        "\n",
        "**Sample Output**\n",
        "```bash\n",
        "8\n",
        "```\n",
        "\n",
        "**Explanation:**\n",
        "\n",
        "The list of room numbers contains 31 elements. Since K is 5, there must be groups 6 of families. In the given list, all of the numbers repeat 5 times except for room number 8.\n",
        "Hence, 8 is the Captain's room number."
      ],
      "metadata": {
        "id": "Gh4wG6qXbAjF"
      }
    },
    {
      "cell_type": "code",
      "source": [
        "from collections import Counter\n",
        "\n",
        "\n",
        "N = int(input())\n",
        "count = Counter(map(int, input().split()))\n",
        "\n",
        "print(next(k for k, v in count.items() if v != N))"
      ],
      "metadata": {
        "id": "X7f1kAh6chz0"
      },
      "execution_count": null,
      "outputs": []
    },
    {
      "cell_type": "markdown",
      "source": [
        "### `Problem-10:` Classes: Dealing with Complex Numbers\n",
        "\n",
        "For this challenge, you are given two complex numbers, and you have to print the result of their addition, subtraction, multiplication, division and modulus operations.\n",
        "\n",
        "The real and imaginary precision part should be correct up to two decimal places.\n",
        "\n",
        "**Input Format:**\n",
        "\n",
        "One line of input: The real and imaginary part of a number separated by a space.\n",
        "\n",
        "**Output Format:**\n",
        "\n",
        "For two complex numbers $C$ and $D$, the output should be in the following sequence on separate lines:\n",
        "\n",
        "- $C + D\n",
        "- $C - D\n",
        "- $C * D$\n",
        "- $C / D$\n",
        "- $mod(C)$\n",
        "- $mod(D)$\n",
        "\n",
        "For complex numbers with non-zero real ($A$) and complex part ($B), the output should be in the following format:\n",
        "\n",
        "$A + Bi$\n",
        "\n",
        "Replace the plus symbol ($+$) with a minus symbol ($-$) when $B<0$.\n",
        "\n",
        "For complex numbers with a zero complex part i.e. real numbers, the output should be:\n",
        "\n",
        "$A + 0.00i$\n",
        "\n",
        "For complex numbers where the real part is zero and the complex part ($B$) is non-zero, the output should be:\n",
        "\n",
        "$0.00 + Bi$\n",
        "\n",
        "**Sample Input:**\n",
        "\n",
        "```bash\n",
        "2 1\n",
        "5 6\n",
        "```\n",
        "\n",
        "**Sample Output:**\n",
        "\n",
        "```bash\n",
        "7.00+7.00i\n",
        "-3.00-5.00i\n",
        "4.00+17.00i\n",
        "0.26-0.11i\n",
        "2.24+0.00i\n",
        "7.81+0.00i\n",
        "```\n",
        "\n",
        "**Concept:**\n",
        "\n",
        "Solve this problem using Object Oriented way. Methods with a double underscore before and after their name are considered as built-in methods. They are used by interpreters and are generally used in the implementation of overloaded operators or other built-in functionality. \n",
        "\n",
        "```bash\n",
        "__add__-> Can be overloaded for + operation\n",
        "\n",
        "__sub__ -> Can be overloaded for - operation\n",
        "\n",
        "__mul__ -> Can be overloaded for * operation\n",
        "```"
      ],
      "metadata": {
        "id": "uThexq4tc567"
      }
    },
    {
      "cell_type": "code",
      "source": [
        "import math\n",
        "\n",
        "class Complex(object):\n",
        "    def __init__(self, real, imaginary):\n",
        "        self.real, self.imaginary = real, imaginary\n",
        "\n",
        "    def __add__(self, no):\n",
        "        real = self.real + no.real\n",
        "        imag = self.imaginary + no.imaginary\n",
        "        return __class__(real, imag)\n",
        "\n",
        "    def __sub__(self, no):\n",
        "        real = self.real - no.real\n",
        "        imag = self.imaginary - no.imaginary\n",
        "        return __class__(real, imag)\n",
        "        \n",
        "    def __mul__(self, no):\n",
        "        real = self.real*no.real - self.imaginary*no.imaginary\n",
        "        imag = self.real*no.imaginary + no.real*self.imaginary\n",
        "        return __class__(real, imag)\n",
        "\n",
        "    def __truediv__(self, no):\n",
        "        real = self.real*no.real + self.imaginary*no.imaginary\n",
        "        real /= pow(no.real, 2) + pow(no.imaginary, 2)\n",
        "        imag = self.imaginary*no.real - self.real*no.imaginary\n",
        "        imag /= pow(no.real, 2) + pow(no.imaginary, 2)\n",
        "        return __class__(real, imag)\n",
        "\n",
        "    def mod(self):\n",
        "        real = math.sqrt(pow(self.real,2) + pow(self.imaginary, 2))\n",
        "        imag = 0.00\n",
        "        return __class__(real, imag)\n",
        "\n",
        "    def __str__(self):\n",
        "        if self.imaginary == 0:\n",
        "            result = \"%.2f+0.00i\" % (self.real)\n",
        "        elif self.real == 0:\n",
        "            if self.imaginary >= 0:\n",
        "                result = \"0.00+%.2fi\" % (self.imaginary)\n",
        "            else:\n",
        "                result = \"0.00-%.2fi\" % (abs(self.imaginary))\n",
        "        elif self.imaginary > 0:\n",
        "            result = \"%.2f+%.2fi\" % (self.real, self.imaginary)\n",
        "        else:\n",
        "            result = \"%.2f-%.2fi\" % (self.real, abs(self.imaginary))\n",
        "        return result\n",
        "\n",
        "if __name__ == '__main__':\n",
        "    c = map(float, input().split())\n",
        "    d = map(float, input().split())\n",
        "    x = Complex(*c)\n",
        "    y = Complex(*d)\n",
        "    print(*map(str, [x+y, x-y, x*y, x/y, x.mod(), y.mod()]), sep='\\n')"
      ],
      "metadata": {
        "id": "mU60TBkDewLc"
      },
      "execution_count": null,
      "outputs": []
    },
    {
      "cell_type": "markdown",
      "source": [
        "### `Problem-11:` Find the Torsional angle\n",
        "\n",
        "You are given four points $A, B, C$ and $D$ in a 3-dimensional Carterian coordinate system. You are required to print the angle between the plane made by the points $A, B, C$ and $B, C, D$ in degrees (**not radians**). Let the angle be $\\phi$.\n",
        "\n",
        "$cos(\\phi) = (X.Y)/|X||Y|$ where $X = AB * BC$ and $Y = BC * CD$\n",
        "\n",
        "Here, $X.Y$ means the dot product of $X$ and $Y$ and $AB*BC$ means the cross product of vectors $AB$ and $BC$. Also, $AB = B - A$\n",
        "\n",
        "**Input Format:**\n",
        "\n",
        "One line of input containing the space separated floating number values of the $X, Y$ and $Z$ coordinates of a point.\n",
        "\n",
        "**Output Format:**\n",
        "\n",
        "Output the angle correct up to two decimal places.\n",
        "\n",
        "**Sample Input:**\n",
        "\n",
        "```bash\n",
        "0 4 5\n",
        "1 7 6\n",
        "0 5 9\n",
        "1 7 2\n",
        "```\n",
        "\n",
        "**Sample Output:**\n",
        "\n",
        "```bash\n",
        "8.19\n",
        "```"
      ],
      "metadata": {
        "id": "IyCF6KVMe26T"
      }
    },
    {
      "cell_type": "code",
      "source": [
        "from math import sqrt\n",
        "\n",
        "\n",
        "class Points(object):\n",
        "    def __init__(self, x, y, z):\n",
        "        self.x = x\n",
        "        self.y = y\n",
        "        self.z = z\n",
        "\n",
        "    def __sub__(self, no):\n",
        "        return Points(self.x - no.x,\n",
        "                      self.y - no.y,\n",
        "                      self.z - no.z)\n",
        "\n",
        "    def dot(self, no):\n",
        "        return self.x * no.x + self.y * no.y + self.z * no.z\n",
        "\n",
        "    def cross(self, no):\n",
        "        return Points(self.y * no.z - self.z * no.y,\n",
        "                      self.z * no.x - self.x * no.z,\n",
        "                      self.x * no.y - self.y * no.x)\n",
        "\n",
        "    def absolute(self):\n",
        "        return sqrt((self.x ** 2 + self.y ** 2 + self.z ** 2))\n",
        "\n",
        "if __name__ == '__main__':\n",
        "    points = list()\n",
        "    for i in range(4):\n",
        "        a = list(map(float, input().split()))\n",
        "        points.append(a)\n",
        "\n",
        "    a, b, c, d = Points(*points[0]), Points(*points[1]), Points(*points[2]), Points(*points[3])\n",
        "    x = (b - a).cross(c - b)\n",
        "    y = (c - b).cross(d - c)\n",
        "    angle = math.acos(x.dot(y) / (x.absolute() * y.absolute()))\n",
        "\n",
        "    print(\"%.2f\" % math.degrees(angle))"
      ],
      "metadata": {
        "id": "mJ0i05GdglHz"
      },
      "execution_count": null,
      "outputs": []
    },
    {
      "cell_type": "markdown",
      "source": [
        "### `Problem-12:` Maximize it\n",
        "\n",
        "You are given a function $f(X) = X^2$. You are also given $K$ lists. The $i^{th}$ list consists of $N_i$ elements. You have to pick one element from each list so that the value from the equation below is maximized:\n",
        "\n",
        "$S = (f(X_1) + f(X_2) + ... + f(N_k)) \\% M $\n",
        "\n",
        "$X_i$ denotes the element picked from the $i^{th}$ list. Find the maximized value $S_{max}$ obtained.\n",
        "\n",
        "$\\%$ denotes the modulo operator.\n",
        "\n",
        "Note that you need to take exactly one element from each list, not necessarily the largest element. You add the squares of the chosen elements and perform the modulo operation. The maximum value that you can obtain, will be the answer to the problem. \n",
        "\n",
        "**Input Format:**\n",
        "\n",
        "The first line contains 2 space separated integers $K$ and $M$.\n",
        "\n",
        "The next $K$ lines each contains an integer $N_i$, denoting the number of elements in the $i^{th}$ list, followed by $N_i$ space separated integers denoting the elements in the list.\n",
        "\n",
        "**Output Format:**\n",
        "\n",
        "Output a single integer denoting the value $S_max$\n",
        "\n",
        "**Sample Input:**\n",
        "\n",
        "```bash\n",
        "3 1000\n",
        "2 5 4\n",
        "3 7 8 9 \n",
        "5 5 7 8 9 10 \n",
        "```\n",
        "\n",
        "**Sample Output:**\n",
        "\n",
        "```bash\n",
        "206\n",
        "```\n",
        "\n",
        "**Explanation:**\n",
        "\n",
        "Picking 5 from $1^{st}$ list, 9 from the $2^{nd}$ list and 10 from the $3^{rd}$ list gives the maximum $S$ value equal to $(5^2 + 9^2 + 10^2)\\%1000 = 206$"
      ],
      "metadata": {
        "id": "J6lLgk92g0QT"
      }
    },
    {
      "cell_type": "code",
      "source": [
        "from itertools import product\n",
        "\n",
        "x, n = map(int, input().split())\n",
        "\n",
        "l = [list(map(lambda y: (int(y)**2)%n, input().split()))[1:] for i in range(x)]\n",
        "bestes = [sum(el)%n for el in product(*l)]\n",
        "print(max(bestes))"
      ],
      "metadata": {
        "id": "eWNYr2jji4hr"
      },
      "execution_count": null,
      "outputs": []
    },
    {
      "cell_type": "markdown",
      "source": [
        "### `Problem-13:` Diamond shape\n",
        "\n",
        "Write a python program to print the diamond shape. Given a number n, write a program to print a diamond shape with 2n rows.\n",
        "\n",
        "![Sample](https://media.geeksforgeeks.org/wp-content/cdn-uploads/diamond.png)"
      ],
      "metadata": {
        "id": "78Ij0dqqk_M4"
      }
    },
    {
      "cell_type": "code",
      "source": [
        "def gotonextLine(k, i, z):\n",
        "    # base case\n",
        "    if (k == i):\n",
        "        return\n",
        "    print(\"* \", end=\"\")\n",
        "    gotonextLine(k + z, i, z)\n",
        "\n",
        "# print blank space of diamond\n",
        "def addblankSpaceInDiamond(j,i,z):\n",
        "    if (j == i):\n",
        "        return\n",
        "    print(\" \",end=\"\"),\n",
        "    addblankSpaceInDiamond(j + z, i, z)\n",
        "\n",
        "def upperDiamond(row,i):\n",
        "    # base case\n",
        "    if (i > row):\n",
        "        return\n",
        "    addblankSpaceInDiamond(row, i, -1)\n",
        "    gotonextLine(0, i, 1)\n",
        "    print(\"\\n\",end=\"\"),\n",
        "    upperDiamond(row, i + 1) # recursive call\n",
        "\n",
        "\n",
        "def lowerDiamond(row,i):\n",
        "    # print the next line of diamond\n",
        "    if (i > row): # base case\n",
        "        return\n",
        "    addblankSpaceInDiamond(0, i, 1)\n",
        "    gotonextLine(row, i, -1)\n",
        "    print(\"\\n\",end=\"\"),\n",
        "    lowerDiamond(row, i + 1)\n",
        "# Code\n",
        "row = 5\n",
        "upperDiamond(row, 0) # print uper part of triangle\n",
        "lowerDiamond(row, 1) # print lower part of diamond"
      ],
      "metadata": {
        "colab": {
          "base_uri": "https://localhost:8080/"
        },
        "id": "HGMy5XwQmrIS",
        "outputId": "3b04a411-a9a2-4dd5-e2d7-9f3bc37b90a8"
      },
      "execution_count": null,
      "outputs": [
        {
          "output_type": "stream",
          "name": "stdout",
          "text": [
            "     \n",
            "    * \n",
            "   * * \n",
            "  * * * \n",
            " * * * * \n",
            "* * * * * \n",
            " * * * * \n",
            "  * * * \n",
            "   * * \n",
            "    * \n",
            "     \n"
          ]
        }
      ]
    },
    {
      "cell_type": "markdown",
      "source": [
        "### `Problem-14:` Write a python function to print the half-diamond star pattern.\n",
        "\n",
        "Given an integer N, the task is to print half-diamond-star pattern.\n",
        "\n",
        "```bash\n",
        "*\n",
        "**\n",
        "***\n",
        "****\n",
        "*****\n",
        "******\n",
        "*****\n",
        "****\n",
        "***\n",
        "**\n",
        "*\n",
        "```"
      ],
      "metadata": {
        "id": "lRs-wub9oAk6"
      }
    },
    {
      "cell_type": "code",
      "source": [
        "def halfDiamondStar(N):\n",
        "    # Loop to print the upper half\n",
        "    # diamond pattern\n",
        "    for i in range(N):\n",
        "        for j in range(0, i + 1):\n",
        "            print(\"*\", end = \"\")\n",
        "        print()\n",
        "\n",
        "    # Loop to print the lower half\n",
        "    # diamond pattern\n",
        "    for i in range(1, N):\n",
        "        for j in range(i, N):\n",
        "            print(\"*\", end = \"\")\n",
        "        print()\n",
        "\n",
        "halfDiamondStar(6)"
      ],
      "metadata": {
        "colab": {
          "base_uri": "https://localhost:8080/"
        },
        "id": "dQbWMbaFoeoJ",
        "outputId": "cc542670-0fbe-437e-b309-3198bb28ffda"
      },
      "execution_count": null,
      "outputs": [
        {
          "output_type": "stream",
          "name": "stdout",
          "text": [
            "*\n",
            "**\n",
            "***\n",
            "****\n",
            "*****\n",
            "******\n",
            "*****\n",
            "****\n",
            "***\n",
            "**\n",
            "*\n"
          ]
        }
      ]
    },
    {
      "cell_type": "markdown",
      "source": [
        "### `Problem-15:` Write a Python program to find the power of a given number using recursion.\n",
        "\n",
        "Given a number $N$ and power $P$, the task is to find the power of a number ( i.e. $N^P$ ) using recursion."
      ],
      "metadata": {
        "id": "4BtPzIjSYj3P"
      }
    },
    {
      "cell_type": "code",
      "source": [
        "def power(N, P):\n",
        "    # if power is 0 then return 1 if the condition is true\n",
        "    if P == 0:\n",
        "        return 1\n",
        "    \n",
        "    # recurrence relation\n",
        "    return (N * power(N, P-1))\n",
        "\n",
        "if __name__ == \"__main__\":\n",
        "    N = 5\n",
        "    P = 2\n",
        "    print(power(N, P))"
      ],
      "metadata": {
        "id": "3YBPp_UXo7QR",
        "colab": {
          "base_uri": "https://localhost:8080/"
        },
        "outputId": "41a99b80-83fc-4a6a-f8e5-ded9c41f63ed"
      },
      "execution_count": null,
      "outputs": [
        {
          "output_type": "stream",
          "name": "stdout",
          "text": [
            "25\n"
          ]
        }
      ]
    },
    {
      "cell_type": "markdown",
      "source": [
        "### `Problem-16:` Largest number in a list\n",
        "\n",
        "Write a Python program to find the largest number in a list without using built-in methods."
      ],
      "metadata": {
        "id": "DNxnkPnLZhHw"
      }
    },
    {
      "cell_type": "code",
      "source": [
        "numbers = [3, 8, 1, 7, 2, 9, 5, 4]\n",
        "def max_list(my_list: list):\n",
        "    big = my_list[0]\n",
        "    position = 0\n",
        "    \n",
        "    for index, item in enumerate(my_list):\n",
        "        if item > big:\n",
        "            big = item\n",
        "            position = index\n",
        "\n",
        "    return position, big\n",
        "\n",
        "position, big = max_list(numbers)\n",
        "\n",
        "print(f\"The largest element is {big} which is found at position {position}\")"
      ],
      "metadata": {
        "colab": {
          "base_uri": "https://localhost:8080/"
        },
        "id": "MqXO2ah4ZQYf",
        "outputId": "1ce3bbf8-6249-4152-bd12-5b9cb05435ce"
      },
      "execution_count": null,
      "outputs": [
        {
          "output_type": "stream",
          "name": "stdout",
          "text": [
            "The largest element is 9 which is found at position 5\n"
          ]
        }
      ]
    },
    {
      "cell_type": "markdown",
      "source": [
        "### `Problem-17:` Reverse integer\n",
        "\n",
        "Write a python function that accepts any length of the integers and prints that integer in a reverse manner. Don't use any python trick or python special syntax."
      ],
      "metadata": {
        "id": "ZNzbUZSLa2pG"
      }
    },
    {
      "cell_type": "code",
      "source": [
        "def reverse_int(number: int) ->int:\n",
        "    rev = 0\n",
        "    while number != 0:\n",
        "        digit = number % 10\n",
        "        rev = (rev * 10) + digit\n",
        "        number = number // 10\n",
        "    return rev\n",
        "\n",
        "number = int(input(\"Enter a positive integer: \"))\n",
        "print(reverse_int(number))"
      ],
      "metadata": {
        "colab": {
          "base_uri": "https://localhost:8080/"
        },
        "id": "UabMHC_zauhn",
        "outputId": "12fb289f-1a78-4a09-e831-fc449d51d334"
      },
      "execution_count": null,
      "outputs": [
        {
          "output_type": "stream",
          "name": "stdout",
          "text": [
            "Enter a positive integer: 9474158862\n",
            "2688514749\n"
          ]
        }
      ]
    },
    {
      "cell_type": "markdown",
      "source": [
        "### `Problem-18:` Celsius to Farenhight\n",
        "\n",
        "Write a Python function that can convert the degree of Celsius to the Farenhight scale.\n",
        "\n"
      ],
      "metadata": {
        "id": "GGTJhP9Vb4Dm"
      }
    },
    {
      "cell_type": "code",
      "source": [
        "def celsius_to_farenhight(celsius: float) -> float:\n",
        "    farenhight = (9 * celsius)/5 + 32\n",
        "    return farenhight\n",
        "\n",
        "c = float(input(\"Enter temperature in Centigrade: \"))\n",
        "print(f\"In Farenhight scale, the temp is {celsius_to_farenhight(c)}\")"
      ],
      "metadata": {
        "colab": {
          "base_uri": "https://localhost:8080/"
        },
        "id": "1sZ1hwrCbqAW",
        "outputId": "ca803a80-516e-4177-d898-91672a29e9d2"
      },
      "execution_count": null,
      "outputs": [
        {
          "output_type": "stream",
          "name": "stdout",
          "text": [
            "Enter temperature in Centigrade: 17\n",
            "In Farenhight scale, the temp is 62.6\n"
          ]
        }
      ]
    },
    {
      "cell_type": "markdown",
      "source": [
        "### `Problem-19:` is it right?\n",
        "\n",
        "You are given two values $a$ and $b$. Perform integer division and print $a/b$.\n",
        "\n",
        "**Input Format:**\n",
        "\n",
        "The first line contains $T$, the number of test cases.\n",
        "\n",
        "The next $T$ lines each contain the space separated values of $a$ and $b$.\n",
        "\n",
        "**Output Format:**\n",
        "\n",
        "Print the value of $a/b$.\n",
        "\n",
        "In the case of *ZeroDivisionError* or *ValueError*, print the error code.\n",
        "\n",
        "**Sample Input:**\n",
        "\n",
        "```bash\n",
        "3\n",
        "1 0\n",
        "2 5\n",
        "3 1\n",
        "```\n",
        "\n",
        "**Sample Output:**\n",
        "\n",
        "```bash\n",
        "Error Code: integer division or modulo by zero\n",
        "Error Code: invalid literal for int() with base 10: '$'\n",
        "3\n",
        "```"
      ],
      "metadata": {
        "id": "7eca1lkUdZe_"
      }
    },
    {
      "cell_type": "code",
      "source": [
        "for i in range(int(input())):\n",
        "    a,b=list(map(str,input().split()))\n",
        "    try:\n",
        "        print(int(int(a)/int(b)))\n",
        "    except:\n",
        "        if b!=\"0\":\n",
        "            print(f\"Error Code: invalid literal for int() with base 10: '{b if a.isdigit() else a}'\")\n",
        "        else:\n",
        "            print(f\"Error Code: integer division or modulo by zero\")"
      ],
      "metadata": {
        "id": "zXTyd0LqcsFO"
      },
      "execution_count": null,
      "outputs": []
    },
    {
      "cell_type": "markdown",
      "source": [
        "### `Problem 20:` Piling Up!\n",
        "\n",
        "There is a horizontal row of $n$ cubes. The length of each cube is given. You need to create a new vertical pile of cubes. The new pile should follow these directions: if $cube[i]$ is on top of $sube[j]$ then $sideLength[j] >= sigeLength[i]$.\n",
        "\n",
        "When stacling the cubes, you can only pick up either leftmost or the rightmost cube each time. Print Yes if it possible to stack the cubes. Otherwise, print No.\n",
        "\n",
        "**Example:**\n",
        "\n",
        "$blocks = [1, 2, 3, 8, 7]$\n",
        "\n",
        "Result: No\n",
        "\n",
        "After choosing the rightmost element 7, choose the leftmost element, 1. After than, the choices are 2 and 8. These are both larger than the top block of size 1.\n",
        "\n",
        "$blocks = [1, 2, 3, 7, 8]$\n",
        "\n",
        "Result: Yes\n",
        "\n",
        "Choose blocks from right to left in order to successfully stack the blocks.\n",
        "\n",
        "**Input Format:**\n",
        "\n",
        "The first line contains a single integer $T$, the number of test cases.\n",
        "\n",
        "For each test case, there are 2 lines.\n",
        "\n",
        "The first line of each test case contains $n$, the number of cubes.\n",
        "\n",
        "The second line contains $n$ space separated integers, denoting the sideLengths of each cube in that order.\n",
        "\n",
        "**Output Format:**\n",
        "\n",
        "For each test case, output a single line containing either `Yes` or `No`.\n",
        "\n",
        "**Sample Input:**\n",
        "\n",
        "```bash\n",
        "STDIN        Function\n",
        "-----        --------\n",
        "2            T = 2\n",
        "6            blocks[] size n = 6\n",
        "4 3 2 1 3 4  blocks = [4, 3, 2, 1, 3, 4]\n",
        "3            blocks[] size n = 3\n",
        "1 3 2        blocks = [1, 3, 2]\n",
        "```\n",
        "\n",
        "**Sample Output:**\n",
        "\n",
        "```bash\n",
        "Yes\n",
        "No\n",
        "```\n",
        "\n",
        "**Explanation:**\n",
        "\n",
        "In the first test case, pick in this order: *left-4, right-4, left-3, right-3,left-2, right-1*\n",
        "\n",
        "In the second test case, no order gives an appropriate arrangement of vertical cubes. 3 will always come after either 1 or 2."
      ],
      "metadata": {
        "id": "znXOx1OhfACu"
      }
    },
    {
      "cell_type": "code",
      "source": [
        "for _ in range(int(input())):\n",
        "    size = int(input())\n",
        "    block = list(map(int, input().split()))\n",
        "    if block[0] < max(block) > block[-1]:\n",
        "        print('No')\n",
        "    else:\n",
        "        print('Yes')"
      ],
      "metadata": {
        "id": "1ECFuxhThesV"
      },
      "execution_count": null,
      "outputs": []
    },
    {
      "cell_type": "markdown",
      "source": [
        "### `Problem 21` The following Python code represents a Tic-Tac-Toe board as a list of\n",
        "lists:\n",
        "`[ [ '#' , 'o' , 'x' ] , [ '#' , '#' , 'o' ] , [ 'x' , '#' , 'o' ] ]`\n",
        "\n",
        "The `#` symbols represent blank squares on the board. Write a function\n",
        "print_board that takes a list of lists as an argument and prints out a\n",
        "Tic-Tac-Toe board in the following format:\n",
        "```\n",
        "   | o | x\n",
        "------------\n",
        "   |   | o\n",
        "------------\n",
        " x |   | o\n",
        "```"
      ],
      "metadata": {
        "id": "fZdZ1Ntd8gE4"
      }
    },
    {
      "cell_type": "code",
      "source": [
        "#Solution\n",
        "def print_board ( board ) :\n",
        "    for row in board:\n",
        "        row_txt=''\n",
        "        for i in row:\n",
        "            if i=='#':\n",
        "                row_txt += '| {} '.format(' ')\n",
        "            else:\n",
        "                row_txt += '| {} '.format(i)\n",
        "        print(row_txt[1:])\n",
        "        print('------------')\n",
        "\n",
        "    print() # Print an empty line\n",
        "\n",
        "print_board([ [ '#' , 'o' , 'x' ] , [ '#' , '#' , 'o' ] , [ 'x' , '#' , 'o' ] ])"
      ],
      "metadata": {
        "colab": {
          "base_uri": "https://localhost:8080/"
        },
        "id": "jrHPrVbV8wSl",
        "outputId": "cb99931f-c693-4664-87d9-125d92a53e0b"
      },
      "execution_count": null,
      "outputs": [
        {
          "output_type": "stream",
          "name": "stdout",
          "text": [
            "   | o | x \n",
            "------------\n",
            "   |   | o \n",
            "------------\n",
            " x |   | o \n",
            "------------\n",
            "\n"
          ]
        }
      ]
    },
    {
      "cell_type": "markdown",
      "source": [
        "### `Problem 22:` Wobbly Number\n",
        "A “wobbly” number is one in which the digits alternate between being higher and lower than the preceding one. Here are some wobbly numbers: `19284756242, 90909, 0909`. Write a function that accepts a list of digits to be checked for wobbliness. If the sequence of digits is wobbly, the function should return True, otherwise False.\n"
      ],
      "metadata": {
        "id": "aGKe-f-UBmaJ"
      }
    },
    {
      "cell_type": "code",
      "source": [
        "#Soltuion\n",
        "def isWobbly ( num ) :\n",
        "    if num == '' : \n",
        "        return False\n",
        "    elif not ( len ( num ) > 2 ) : \n",
        "        return False\n",
        "    if not ( num[0].isdigit ( ) or num[1].isdigit ( ) ) : \n",
        "        return False\n",
        "    isLower = int ( num[0] ) < int ( num[1] )\n",
        "    curr = int ( num[1] )\n",
        "    for i in num[2:] :\n",
        "        if not i.isdigit( ) : \n",
        "            return False\n",
        "        d = int ( i )\n",
        "        if ( curr < d ) == isLower : \n",
        "            return False\n",
        "        elif curr == d : \n",
        "            return False\n",
        "        isLower = curr < d\n",
        "        curr = d\n",
        "    return True\n",
        "\n",
        "a = ['19284756242', '90909', '0909']\n",
        "for i in a:\n",
        "    print(i, isWobbly(i))"
      ],
      "metadata": {
        "colab": {
          "base_uri": "https://localhost:8080/"
        },
        "id": "mk59gZ6n9hz6",
        "outputId": "8876d91d-1ddc-4a02-c7f2-e75ac2a23cb9"
      },
      "execution_count": null,
      "outputs": [
        {
          "output_type": "stream",
          "name": "stdout",
          "text": [
            "19284756242 True\n",
            "90909 True\n",
            "0909 True\n"
          ]
        }
      ]
    },
    {
      "cell_type": "markdown",
      "source": [
        "### `Problem 23-25`\n",
        "Imagine a fictional land where monetary units aren’t based on decimal orders. In this land, we have 3 basic units of currency:\n",
        "\n",
        "* The Blink. The smallest unit of currency.\n",
        "* The Hoojim. Worth 12 Blinks.\n",
        "* The Bung. Worth 20 Hooja (plural of Hoojim) or 240 Blinks. "
      ],
      "metadata": {
        "id": "PYjGwhrPDr_O"
      }
    },
    {
      "cell_type": "markdown",
      "source": [
        "####`Problem-23` Write a function called `deBung` \n",
        "Write a function called deBung that accepts an integer representing a number of Bungs and displays the number of Hooja and Blink it is worth. \n",
        "\n",
        "For example,calling the function like this:\n",
        "\n",
        "```\n",
        "deBung ( 4 )\n",
        "```\n",
        "Will produce the following output:\n",
        "`4 Bungs is worth 80 Hoojim or 960 Blinks.`\n"
      ],
      "metadata": {
        "id": "2z6X7JT9D43k"
      }
    },
    {
      "cell_type": "code",
      "source": [
        "#Code here"
      ],
      "metadata": {
        "id": "pIsMtv1xCiTM"
      },
      "execution_count": null,
      "outputs": []
    },
    {
      "cell_type": "markdown",
      "source": [
        "####`Problem-24` Write a function called `enBlinkHoojaBung`\n",
        "Write a function called enBlinkHoojaBung that takes a number of Blinks and outputs its equivalent in Blink, Hooja and Bung, using the smallest number of coins. Coins in our imaginary land are made of a very heavy metal, so this is important. \n",
        "\n",
        "If the function is called with the value `506`, the output should be:\n",
        "`506 Blinks is worth 2 Bung, 1 Hoojim and 6 Blinks`."
      ],
      "metadata": {
        "id": "wcyTCek8EQWX"
      }
    },
    {
      "cell_type": "code",
      "source": [
        "#Code here"
      ],
      "metadata": {
        "id": "K7NiKmPQEuoO"
      },
      "execution_count": null,
      "outputs": []
    },
    {
      "cell_type": "markdown",
      "source": [
        "####`Problem-25` Rewrite `enBlinkHoojaBung`\n",
        "Rewrite enBlinkHoojaBung so that it returns a tuple of Blinks, Hooja and Bung values instead of writing to the screen. \n",
        "The last example would return `( 2 , 1 , 6 )`.\n"
      ],
      "metadata": {
        "id": "_GGl65OPEUpg"
      }
    },
    {
      "cell_type": "code",
      "source": [
        "#code here"
      ],
      "metadata": {
        "id": "YqxffYscEv_O"
      },
      "execution_count": null,
      "outputs": []
    },
    {
      "cell_type": "markdown",
      "source": [
        "###`Problem 26-28` Convert the following iterative functions into recursive functions:\n",
        "\n",
        "P-26:\n",
        "\n",
        "```\n",
        "def sum_even ( n : int) :\n",
        "    total = 0\n",
        "    for i in range ( 2 , n + 1 , 2 ) :\n",
        "        total += i\n",
        "    return total\n",
        "```\n",
        "P-27:\n",
        "```\n",
        "def min ( l:list ) :\n",
        "    m = 0\n",
        "    for i in l :\n",
        "        if i<m : \n",
        "            m = i\n",
        "    return m\n",
        "```\n",
        "P-28:\n",
        "```\n",
        "def prod ( l : list ) :\n",
        "    product , i = 1 , 0\n",
        "    while i < len ( l ) :\n",
        "        product *= l[i]\n",
        "        i += 1\n",
        "    return product\n",
        "```"
      ],
      "metadata": {
        "id": "aBnRx9edE5Q4"
      }
    },
    {
      "cell_type": "code",
      "source": [
        "#Code here for Problem 26-28\n"
      ],
      "metadata": {
        "id": "VtFpBkZXFbcu"
      },
      "execution_count": null,
      "outputs": []
    },
    {
      "cell_type": "markdown",
      "source": [
        "###`Problem 29-31` Convert the following iterative functions into recursive functions:\n",
        "P-29:\n",
        "```\n",
        "def sum_odd ( n , total ) :\n",
        "    if n == 1 : \n",
        "        return total\n",
        "    elif n % 2 == 0 : \n",
        "        return sum_odd ( n - 1 , total )\n",
        "    else : \n",
        "        return sum_odd ( n - 2 , total + n )\n",
        "\n",
        "\n",
        "```\n",
        "P-30:\n",
        "```\n",
        "def max ( l , n ) :\n",
        "    if l == [ ] : \n",
        "        return n\n",
        "    elif l[0] > n : \n",
        "        return max ( l[1:] , l[0] )\n",
        "    else : \n",
        "        return max ( l[1:] , n )\n",
        "\n",
        "```\n",
        "P-31:\n",
        "```\n",
        "def mylen ( l , n ) :\n",
        "    if l == [] : \n",
        "        return n\n",
        "    else : \n",
        "        return mylen ( l[1:] , n +1 )\n",
        "```"
      ],
      "metadata": {
        "id": "To95QBydFDnv"
      }
    },
    {
      "cell_type": "code",
      "source": [
        "#Code here for Problem 29-31"
      ],
      "metadata": {
        "id": "jL4VvVWUGZGG"
      },
      "execution_count": null,
      "outputs": []
    },
    {
      "cell_type": "markdown",
      "source": [
        "###`Problem 32-35\n",
        "P-32:\n",
        "> Use map and lambda to turn a list of integers from `1 to 100` into a list of even numbers from `2 to 200`.\n",
        "\n",
        "P-33:\n",
        "> Use filter to generate a list of odd numbers from 0 to 100\n",
        "\n",
        "P-34:\n",
        "> Use a list comprehension to generate a list of odd numbers from 0 to\n",
        "100.\n",
        "\n",
        "P-35:\n",
        "\n",
        "> Write a generator function (using the yield keyword) that generates\n",
        "factorial numbers.\n"
      ],
      "metadata": {
        "id": "-eyn_vgtGnaN"
      }
    },
    {
      "cell_type": "code",
      "source": [
        "#Code here for P-32 to P-35"
      ],
      "metadata": {
        "id": "jM8E9YL7HCVk"
      },
      "execution_count": null,
      "outputs": []
    },
    {
      "cell_type": "markdown",
      "source": [
        "###`Problem-36:` Ackermann’s Function\n",
        "Ackermann’s Function is defined as:\n",
        "```\n",
        "          n+1 if m = 0\n",
        " A(m,n) = A(m−1,1) if m > 0 and n = 0\n",
        "          A(m−1,A(m,n−1)) if m > 0 and n > 0\n",
        "```\n",
        "\n",
        "i. Write a recursive Python function to implement Ackermann’s Function. \n",
        "\n",
        "ii. How many recursive calls will be required to evaluate A(2,3)?"
      ],
      "metadata": {
        "id": "_bKskVhMHKTw"
      }
    },
    {
      "cell_type": "code",
      "source": [
        "#Code here\n",
        "def ackermann ( m , n ) :\n",
        "    if m == 0 : return n + 1\n",
        "    elif m > 0 and n == 0 : return ackermann ( m - 1 , 1 )\n",
        "    else : return ackermann ( m - 1 , ackermann ( m , n - 1 ) )\n",
        "\n",
        "ackermann(2, 3)"
      ],
      "metadata": {
        "colab": {
          "base_uri": "https://localhost:8080/"
        },
        "id": "oybDYHevHCdF",
        "outputId": "5a55e133-d3cd-4998-f1d5-e54eb587db7c"
      },
      "execution_count": null,
      "outputs": [
        {
          "output_type": "execute_result",
          "data": {
            "text/plain": [
              "9"
            ]
          },
          "metadata": {},
          "execution_count": 19
        }
      ]
    },
    {
      "cell_type": "markdown",
      "source": [
        "###`Problem-37:` Palindrome String\n",
        "Write a recursive function implementation of `isPalindrome` to test whether or\n",
        "not a string is a palindrome.\n",
        "\n",
        "`a man, a plan, a canal, panama!` is a palindrome – so we do not make spaces and special characters(! here) significant."
      ],
      "metadata": {
        "id": "Aln2OMNOIEcE"
      }
    },
    {
      "cell_type": "code",
      "source": [
        "#Write your code here\n"
      ],
      "metadata": {
        "id": "OhXQH31zHwDC"
      },
      "execution_count": null,
      "outputs": []
    },
    {
      "cell_type": "markdown",
      "source": [
        "###`Problem-38` Create a module for playing Tic-Tac-Toe.\n",
        "Hint: You may want to consider the following functions:\n",
        "1. print_board ( ) – from the programming exercise above, except that you will want to use a global board variable, rather than a function argument.\n",
        "2. has_won ( ) – check to see whether either player has won. This function should return the string ’o’ or ’x’ if either the o or x player has won and ’#’ if neither player has won. A player wins in Tic-Tac-Toe if they have three of their counters in a row, a column or a diagonal.\n",
        "3. place_counter ( sq , counter ) – place the counter on a particular square of the board. The first argument should be a number between 0 and 8 and the second argument should be either ’o’ or ’x’. You should consider the squares on the\n",
        "board to be numbered as in the diagram below.\n",
        "```\n",
        "    0 | 1 | 2\n",
        "    ----------\n",
        "    3 | 4 | 5\n",
        "    ----------\n",
        "    6 | 7 | 8\n",
        "```\n",
        "Using a numbering such as this one makes the answer to\n",
        "this challenge simpler!\n",
        "\n",
        "4. next_play ( ) – This function should ask the user for the next move they want to play. You should make sure that the user knows whether x or o is currently playing. You can assume that the user will enter an integer value. You should still check that the integer the player has provided is between 0 and 8 inclusive."
      ],
      "metadata": {
        "id": "mRBzgK_pI0cj"
      }
    },
    {
      "cell_type": "code",
      "source": [
        "#Think yourself for answers"
      ],
      "metadata": {
        "id": "UxRSDwTYKCKy"
      },
      "execution_count": null,
      "outputs": []
    },
    {
      "cell_type": "markdown",
      "source": [
        "###`Problem 39:` Die class \n",
        "Create a class to represent a single die that can have any positive integer number of sides. This kind of die might be used when playing role-playing games (RPGs).\n"
      ],
      "metadata": {
        "id": "3COi6yTlKWrn"
      }
    },
    {
      "cell_type": "code",
      "source": [
        "#Solution\n",
        "import random\n",
        "class AnyDie:\n",
        "    def __init__ ( self , sides ) :\n",
        "        assert type ( sides ) == type ( 0 )\n",
        "        assert sides > 0\n",
        "        self.sides = sides\n",
        "        self.generator = random.Random ( )\n",
        "        self.current = 1\n",
        "        # self.representations = list(map ( lambda x : '*' * x , range ( self.sides + 1 ) ))\n",
        "    def __str__ ( self ) :\n",
        "        return f'{self.current} / {self.sides}'\n",
        "    def roll ( self ) :\n",
        "        self.current = self.generator.randint ( 1 , self.sides )\n",
        "        return self.current\n",
        "\n",
        "d = AnyDie(6)\n",
        "d.roll()"
      ],
      "metadata": {
        "colab": {
          "base_uri": "https://localhost:8080/"
        },
        "id": "23nR2J3KKCSm",
        "outputId": "d351b9e8-a4ad-4894-d0fc-88ecf0e83c57"
      },
      "execution_count": null,
      "outputs": [
        {
          "output_type": "execute_result",
          "data": {
            "text/plain": [
              "2"
            ]
          },
          "metadata": {},
          "execution_count": 35
        }
      ]
    },
    {
      "cell_type": "markdown",
      "source": [
        "###`Problem -40` Account class\n",
        "Write a class `Account` that stores the `current balance`, `interest rate` and `account number` of a bank account. Your class should provide methods to `withdraw`, `deposit` and `add interest` to the account. The user should only be allowed to withdraw money up to some `overdraft limit`. If an account goes overdrawn, there is `fee charged`. "
      ],
      "metadata": {
        "id": "8YRZu5UfZk8Z"
      }
    },
    {
      "cell_type": "code",
      "source": [
        "#Code here\n",
        "class Account:\n",
        "    interest_rate = 0.05\n",
        "    overdraft_limit = 500\n",
        "    overdraft_charge = 50\n",
        "\n",
        "    def __init__ ( self , number ) :\n",
        "        self.number = number\n",
        "        self.balance = 0\n",
        "\n",
        "    def deposit ( self , amount ) :\n",
        "        if amount < 0 : \n",
        "            raise ValueError(\"Can't deposit a negative amount of money.\")\n",
        "        self.balance += amount\n",
        "\n",
        "    def withdraw ( self , amount ) :\n",
        "        if amount < 0 : raise ValueError(\"Can't withdraw a negative amount of money.\")\n",
        "        if amount > ( self.balance + Account.overdraft_limit ) : raise ValueError('Out of credit.')\n",
        "        if amount > self.balance :\n",
        "            self.balance -= amount\n",
        "            self.balance -= Account.overdraft_charge\n",
        "        else :\n",
        "            self.balance -= amount\n",
        "\n",
        "    def __str__ ( self ) :\n",
        "        sep = '-----------------'\n",
        "        s = '\\nAccount\\n’ + sep + ’\\n'\n",
        "        s += 'Account number: ’ + str(self.number) + ’\\n’ + sep + ’\\n'\n",
        "        s += 'Overdraft limit: ’ + str(Account.overdraft_limit) + ’\\n'\n",
        "        s += 'Overdraft charge: ’ + str(Account.overdraft_charge) + ’\\n’ + sep + ’\\n'\n",
        "        s += 'Account balance: ’ + str(self.balance) + ’\\n’ + sep + ’\\n'\n"
      ],
      "metadata": {
        "id": "GTEFaXvwNXE3"
      },
      "execution_count": null,
      "outputs": []
    },
    {
      "cell_type": "markdown",
      "source": [
        "Extend Above class;\n",
        "* Create a subclasses of your Account class (from problem 40) called `CreditAccount` in which the user is charged a set amount for every withdrawal that is made. If the user is overdrawn, the withdrawal charge is doubled.\n",
        "* Create a subclasses of your Account class (from problem 40) called\n",
        "`StudentAccount` in which new accounts start off with a balance of 500\n",
        "and an overdraft of up to 3000 is allowed, with no charges for withdrawal\n",
        "\n",
        "Consider other assumption yourself if required."
      ],
      "metadata": {
        "id": "yAmSESGZa7bY"
      }
    },
    {
      "cell_type": "markdown",
      "source": [
        "Thank you!\n",
        "# Happy Learning!!"
      ],
      "metadata": {
        "id": "IWXb9QFHbVqf"
      }
    }
  ]
}