{
  "nbformat": 4,
  "nbformat_minor": 0,
  "metadata": {
    "colab": {
      "provenance": []
    },
    "kernelspec": {
      "name": "python3",
      "display_name": "Python 3"
    },
    "language_info": {
      "name": "python"
    }
  },
  "cells": [
    {
      "cell_type": "code",
      "execution_count": null,
      "metadata": {
        "id": "HCn2UsMwMgrJ"
      },
      "outputs": [],
      "source": [
        "# 1. What do you mean by __name__ == '__main__'"
      ]
    },
    {
      "cell_type": "markdown",
      "source": [
        "### What is a module?\n",
        "\n",
        "Any file with an extention of .py is called a module in python.\n",
        "\n",
        "Whenever we execute a program it's module name is `__main__` and this name is stored in `__name__` variable"
      ],
      "metadata": {
        "id": "XymVT19OMyRK"
      }
    },
    {
      "cell_type": "code",
      "source": [
        "def display():\n",
        "  print('hello')\n",
        "\n",
        "display()\n",
        "print(__name__)"
      ],
      "metadata": {
        "colab": {
          "base_uri": "https://localhost:8080/"
        },
        "id": "Arh7jMSuNLAd",
        "outputId": "94344bd4-58db-4879-a4c3-0736e3fac287"
      },
      "execution_count": null,
      "outputs": [
        {
          "output_type": "stream",
          "name": "stdout",
          "text": [
            "hello\n",
            "__main__\n"
          ]
        }
      ]
    },
    {
      "cell_type": "markdown",
      "source": [
        "### Importing a module\n",
        "\n",
        "- But what is the need to import a module?\n",
        "- How to import a module"
      ],
      "metadata": {
        "id": "s7XQDHr2OVb1"
      }
    },
    {
      "cell_type": "code",
      "source": [
        "# import a module\n",
        "import test\n",
        "test.hello('nitish')"
      ],
      "metadata": {
        "colab": {
          "base_uri": "https://localhost:8080/"
        },
        "id": "3ZIP03upNbvX",
        "outputId": "7bdce38f-2ce7-4ef5-c5b3-0a53207c4146"
      },
      "execution_count": null,
      "outputs": [
        {
          "output_type": "stream",
          "name": "stdout",
          "text": [
            "hello nitish\n"
          ]
        }
      ]
    },
    {
      "cell_type": "code",
      "source": [
        "# import multiple module -> user defined + builtin\n",
        "import math\n",
        "import test\n",
        "\n",
        "test.hello('nitish')\n",
        "print(math.floor(4.3))"
      ],
      "metadata": {
        "colab": {
          "base_uri": "https://localhost:8080/"
        },
        "id": "t1AlPWXzOz2U",
        "outputId": "1d5113f8-b746-49b9-b171-d43c76630ae1"
      },
      "execution_count": null,
      "outputs": [
        {
          "output_type": "stream",
          "name": "stdout",
          "text": [
            "hello nitish\n",
            "4\n"
          ]
        }
      ]
    },
    {
      "cell_type": "code",
      "source": [
        "# show builtin modules"
      ],
      "metadata": {
        "id": "jjIQisWRR32M"
      },
      "execution_count": null,
      "outputs": []
    },
    {
      "cell_type": "markdown",
      "source": [
        "### Variations of import statement"
      ],
      "metadata": {
        "id": "zZqAvC2OR-ls"
      }
    },
    {
      "cell_type": "code",
      "source": [
        "# Normal\n",
        "import math\n",
        "import random"
      ],
      "metadata": {
        "id": "w39pRArFR51i"
      },
      "execution_count": null,
      "outputs": []
    },
    {
      "cell_type": "code",
      "source": [
        "# clubbing together\n",
        "import math,random,test"
      ],
      "metadata": {
        "id": "B8nroR_dSE_K"
      },
      "execution_count": null,
      "outputs": []
    },
    {
      "cell_type": "code",
      "source": [
        "# importing specific names from module\n",
        "from math import factorial,floor\n",
        "from test import hello\n",
        "\n",
        "print(factorial(5))\n",
        "ceil(4.8)"
      ],
      "metadata": {
        "colab": {
          "base_uri": "https://localhost:8080/",
          "height": 223
        },
        "id": "lsTNKjyMSLAB",
        "outputId": "26a76ae5-789a-4144-9bc3-842907300080"
      },
      "execution_count": null,
      "outputs": [
        {
          "output_type": "stream",
          "name": "stdout",
          "text": [
            "120\n"
          ]
        },
        {
          "output_type": "error",
          "ename": "NameError",
          "evalue": "ignored",
          "traceback": [
            "\u001b[0;31m---------------------------------------------------------------------------\u001b[0m",
            "\u001b[0;31mNameError\u001b[0m                                 Traceback (most recent call last)",
            "\u001b[0;32m<ipython-input-6-cbe7c40736a8>\u001b[0m in \u001b[0;36m<module>\u001b[0;34m\u001b[0m\n\u001b[1;32m      4\u001b[0m \u001b[0;34m\u001b[0m\u001b[0m\n\u001b[1;32m      5\u001b[0m \u001b[0mprint\u001b[0m\u001b[0;34m(\u001b[0m\u001b[0mfactorial\u001b[0m\u001b[0;34m(\u001b[0m\u001b[0;36m5\u001b[0m\u001b[0;34m)\u001b[0m\u001b[0;34m)\u001b[0m\u001b[0;34m\u001b[0m\u001b[0;34m\u001b[0m\u001b[0m\n\u001b[0;32m----> 6\u001b[0;31m \u001b[0mceil\u001b[0m\u001b[0;34m(\u001b[0m\u001b[0;36m4.8\u001b[0m\u001b[0;34m)\u001b[0m\u001b[0;34m\u001b[0m\u001b[0;34m\u001b[0m\u001b[0m\n\u001b[0m",
            "\u001b[0;31mNameError\u001b[0m: name 'ceil' is not defined"
          ]
        }
      ]
    },
    {
      "cell_type": "code",
      "source": [
        "# renaming modules\n",
        "import math as m\n",
        "import numpy as np\n",
        "import pandas as pd\n",
        "import matplotlib.pyplot as plt\n",
        "\n",
        "\n",
        "m.factorial(5)"
      ],
      "metadata": {
        "colab": {
          "base_uri": "https://localhost:8080/"
        },
        "id": "6NVJQwHQSX4P",
        "outputId": "ac136cf9-4e0b-4039-fc8c-ad4563fd045b"
      },
      "execution_count": null,
      "outputs": [
        {
          "output_type": "execute_result",
          "data": {
            "text/plain": [
              "120"
            ]
          },
          "metadata": {},
          "execution_count": 7
        }
      ]
    },
    {
      "cell_type": "code",
      "source": [
        "from math import factorial as f\n",
        "\n",
        "f(5)\n"
      ],
      "metadata": {
        "colab": {
          "base_uri": "https://localhost:8080/"
        },
        "id": "BFPwon_SSbz_",
        "outputId": "8f5f9b9a-fdaa-428e-a84a-fbc0782b2a30"
      },
      "execution_count": null,
      "outputs": [
        {
          "output_type": "execute_result",
          "data": {
            "text/plain": [
              "120"
            ]
          },
          "metadata": {},
          "execution_count": 8
        }
      ]
    },
    {
      "cell_type": "markdown",
      "source": [
        "### Order of execution of a module"
      ],
      "metadata": {
        "id": "Wtoy82ePS8Yh"
      }
    },
    {
      "cell_type": "code",
      "source": [
        "import sys\n",
        "for p in sys.path:\n",
        "  print(p)"
      ],
      "metadata": {
        "colab": {
          "base_uri": "https://localhost:8080/"
        },
        "id": "YEG0zgRCStde",
        "outputId": "d559a13a-2f79-403d-ea5e-17709a51dc0f"
      },
      "execution_count": null,
      "outputs": [
        {
          "output_type": "stream",
          "name": "stdout",
          "text": [
            "/content\n",
            "/env/python\n",
            "/usr/lib/python38.zip\n",
            "/usr/lib/python3.8\n",
            "/usr/lib/python3.8/lib-dynload\n",
            "\n",
            "/usr/local/lib/python3.8/dist-packages\n",
            "/usr/lib/python3/dist-packages\n",
            "/usr/local/lib/python3.8/dist-packages/IPython/extensions\n",
            "/root/.ipython\n"
          ]
        }
      ]
    },
    {
      "cell_type": "markdown",
      "source": [
        "### if `__name__` == `__main__`"
      ],
      "metadata": {
        "id": "QBj3yM3ySWGE"
      }
    },
    {
      "cell_type": "code",
      "source": [],
      "metadata": {
        "id": "-68vYDYrTiyJ"
      },
      "execution_count": null,
      "outputs": []
    },
    {
      "cell_type": "markdown",
      "source": [
        "### What are packages in Python\n",
        "\n",
        "A package in python is a directory containing similar sub packages and modules.\n",
        "\n",
        "- A particular directory is treated as package if it has `__init__.py` file in it.\n",
        "- The `__init__.py` file may be empty or contain some initialization code related to the package"
      ],
      "metadata": {
        "id": "S81yyQIpVFZI"
      }
    },
    {
      "cell_type": "code",
      "source": [],
      "metadata": {
        "id": "0TPGU8kHVgV-"
      },
      "execution_count": null,
      "outputs": []
    },
    {
      "cell_type": "markdown",
      "source": [
        "### What are 3rd party packages?\n",
        "\n",
        "- The python community creates packages and make it available for other programmers\n",
        "- PyPI -> Python Package Index\n",
        "- You can upload your own package\n",
        "- You can also install packages from PyPI and install using pip\n",
        "- pip is a package manager utility\n",
        "- it is automatically installed with python\n",
        "\n"
      ],
      "metadata": {
        "id": "8zaWkj4wV2mK"
      }
    },
    {
      "cell_type": "code",
      "source": [],
      "metadata": {
        "id": "b-Cm7BNVV42v"
      },
      "execution_count": null,
      "outputs": []
    }
  ]
}