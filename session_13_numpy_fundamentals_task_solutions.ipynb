{
  "cells": [
    {
      "cell_type": "markdown",
      "metadata": {
        "id": "6WdKdPGx-tnY"
      },
      "source": [
        "**Note: In Data Science googling is a very important skill. If you find some difficulties to solve the problem, google it and try to find some clues to solve.**"
      ]
    },
    {
      "cell_type": "code",
      "execution_count": null,
      "metadata": {
        "id": "-J4F1ysN4mLk"
      },
      "outputs": [],
      "source": [
        "import numpy as np"
      ]
    },
    {
      "cell_type": "markdown",
      "metadata": {
        "id": "a_K8IH-C6HDK"
      },
      "source": [
        "### `Q-1` Create a null vector of size 10 but the fifth value which is 1.\n",
        "\n"
      ]
    },
    {
      "cell_type": "code",
      "execution_count": null,
      "metadata": {
        "id": "sTF03KsZ6QUI",
        "outputId": "a0ee12fa-1128-4464-b574-fbc5880eda3c"
      },
      "outputs": [
        {
          "data": {
            "text/plain": [
              "array([nan, nan, nan, nan,  1., nan, nan, nan, nan, nan])"
            ]
          },
          "execution_count": 4,
          "metadata": {},
          "output_type": "execute_result"
        }
      ],
      "source": [
        "#Code here\n",
        "\n",
        "# Filling the numpy array with NaN values\n",
        "a = np.nan * np.empty(10)\n",
        "a[4] = 1\n",
        "a"
      ]
    },
    {
      "cell_type": "markdown",
      "metadata": {
        "id": "TEiG25rS6S1i"
      },
      "source": [
        "### `Q-2` Ask user to input two numbers a, b. Write a program to generate a random array of shape (a, b) and print the array and avg of the array."
      ]
    },
    {
      "cell_type": "code",
      "execution_count": null,
      "metadata": {
        "id": "ihwn4oOH6Vh7",
        "outputId": "e4386e6d-c14d-483a-8cba-ac34c5e4bc20"
      },
      "outputs": [
        {
          "name": "stdin",
          "output_type": "stream",
          "text": [
            "Enter two numbers:  2 5\n"
          ]
        },
        {
          "name": "stdout",
          "output_type": "stream",
          "text": [
            "[[0.0277054  0.57613354 0.48856158 0.464767   0.007949  ]\n",
            " [0.80633051 0.46925329 0.42072919 0.49346575 0.67178371]]\n",
            "0.44266789729058403\n"
          ]
        }
      ],
      "source": [
        "#Code here\n",
        "a,b = map(int, input(\"Enter two numbers: \").split())\n",
        "x = np.random.random((a,b))\n",
        "print(x)\n",
        "print(x.mean())"
      ]
    },
    {
      "cell_type": "markdown",
      "metadata": {
        "id": "2iEeybS06ZSq"
      },
      "source": [
        "### `Q-3`Write a function to create a 2d array with 1 on the border and 0 inside. Take 2-D array shape as (a,b) as parameter to function.\n",
        "\n",
        "Eg.-\n",
        "```\n",
        "[[1,1,1,1],\n",
        "[1,0,0,1],\n",
        "[1,0,0,1],\n",
        "[1,1,1,1]]\n",
        "```"
      ]
    },
    {
      "cell_type": "code",
      "execution_count": null,
      "metadata": {
        "id": "gEKndkDU6ZSs",
        "outputId": "3815d717-da76-4331-e1c5-c7403d1a49f1"
      },
      "outputs": [
        {
          "data": {
            "text/plain": [
              "array([[1., 1., 1., 1., 1.],\n",
              "       [1., 0., 0., 0., 1.],\n",
              "       [1., 0., 0., 0., 1.],\n",
              "       [1., 1., 1., 1., 1.]])"
            ]
          },
          "execution_count": 11,
          "metadata": {},
          "output_type": "execute_result"
        }
      ],
      "source": [
        "#Code here\n",
        "def borderArray(a,b):\n",
        "    x = np.ones((a,b))\n",
        "    x[1:-1, 1:-1] = 0    # Except the border, changing all other elements to 0\n",
        "    return x\n",
        "borderArray(4,5)"
      ]
    },
    {
      "cell_type": "markdown",
      "metadata": {
        "id": "QRJicQ8j6ZlE"
      },
      "source": [
        "### `Q-4` Create a vector of size 10 with values ranging from 0 to 1, both excluded.\n"
      ]
    },
    {
      "cell_type": "code",
      "execution_count": null,
      "metadata": {
        "id": "eC4XLhDq6ZlF",
        "outputId": "9c1749af-2958-455e-f542-bb976f0874e2"
      },
      "outputs": [
        {
          "data": {
            "text/plain": [
              "array([0.09090909, 0.18181818, 0.27272727, 0.36363636, 0.45454545,\n",
              "       0.54545455, 0.63636364, 0.72727273, 0.81818182, 0.90909091])"
            ]
          },
          "execution_count": 14,
          "metadata": {},
          "output_type": "execute_result"
        }
      ],
      "source": [
        "#Code here\n",
        "np.linspace(0, 1, 12)[1:-1]"
      ]
    },
    {
      "cell_type": "markdown",
      "metadata": {
        "id": "vb4jK4yQ6Zs2"
      },
      "source": [
        "### `Q-5` Can you create a identity mattrix of shape (3,4). If yes write code for it."
      ]
    },
    {
      "cell_type": "code",
      "execution_count": null,
      "metadata": {
        "id": "DTV_AbMS6Zs4",
        "outputId": "a1e9fe34-1cf5-46e9-af7e-539a37b406d3"
      },
      "outputs": [
        {
          "data": {
            "text/plain": [
              "array([[1., 0., 0., 0.],\n",
              "       [0., 1., 0., 0.],\n",
              "       [0., 0., 1., 0.],\n",
              "       [0., 0., 0., 1.]])"
            ]
          },
          "execution_count": 16,
          "metadata": {},
          "output_type": "execute_result"
        }
      ],
      "source": [
        "#Code here\n",
        "# Identity matricx is a square mattrix, means no of rows and columns will always be same.\n",
        "# Here shape given 3,4 so identuty matrix not possible.\n",
        "\n",
        "#Identy matrix of size 3-- 3X3\n",
        "np.eye(3)\n",
        "\n",
        "#Identy matrix of size 4-- 4X4\n",
        "np.identity(4)\n",
        "\n",
        "# eye and identity are same."
      ]
    },
    {
      "cell_type": "markdown",
      "metadata": {
        "id": "QtjAFm5PEntK"
      },
      "source": [
        "### `Q-6:` Create a 5x5 matrix with row values ranging from 0 to 4."
      ]
    },
    {
      "cell_type": "code",
      "execution_count": null,
      "metadata": {
        "id": "z2WGxRjvEuRS",
        "outputId": "986feca0-dbb9-45ea-d1d9-b600968f5076"
      },
      "outputs": [
        {
          "data": {
            "text/plain": [
              "array([[0., 1., 2., 3., 4.],\n",
              "       [0., 1., 2., 3., 4.],\n",
              "       [0., 1., 2., 3., 4.],\n",
              "       [0., 1., 2., 3., 4.],\n",
              "       [0., 1., 2., 3., 4.]])"
            ]
          },
          "execution_count": 20,
          "metadata": {},
          "output_type": "execute_result"
        }
      ],
      "source": [
        "#Code here\n",
        "z = np.zeros((5,5))\n",
        "z+= np.arange(5)\n",
        "z"
      ]
    },
    {
      "cell_type": "markdown",
      "metadata": {
        "id": "KPpvxKjVHnyx"
      },
      "source": [
        "### `Q-7:`  Consider a random integer (in range 1 to 100) vector with shape `(10,2)` representing coordinates, and coordinates of a point as array is given. Create an array of distance of each point in the random vectros from the given point. Distance array should be interger type.\n",
        "\n",
        "```\n",
        "point = np.array([2,3]) \n",
        "```\n"
      ]
    },
    {
      "cell_type": "code",
      "execution_count": null,
      "metadata": {
        "id": "X7KGnWLNIM6f",
        "outputId": "e7bfb1dd-011c-4003-ef45-17ac277b9ac9"
      },
      "outputs": [
        {
          "data": {
            "text/plain": [
              "array([74, 76, 38, 52, 63, 68, 21, 94, 91, 63])"
            ]
          },
          "execution_count": 29,
          "metadata": {},
          "output_type": "execute_result"
        }
      ],
      "source": [
        "#code here\n",
        "a = np.random.randint(1, 100, (10, 2))\n",
        "p = np.array([2,3])\n",
        "np.sqrt(np.sum((a-p)**2, axis=1)).astype(int)"
      ]
    },
    {
      "cell_type": "markdown",
      "metadata": {
        "id": "tajOFJlCDwTr"
      },
      "source": [
        "### `Q-8:` Consider a (6,7,8) shape array, what is the index (x,y,z) of the 100th element?"
      ]
    },
    {
      "cell_type": "code",
      "execution_count": null,
      "metadata": {
        "id": "qH4oxvs0D3Ra",
        "outputId": "285c2e5b-b6e9-4094-8c55-2a5cb585edb7"
      },
      "outputs": [
        {
          "data": {
            "text/plain": [
              "(1, 5, 4)"
            ]
          },
          "execution_count": 32,
          "metadata": {},
          "output_type": "execute_result"
        }
      ],
      "source": [
        "#Code here\n",
        "np.unravel_index(100, (6,7,8))"
      ]
    },
    {
      "cell_type": "markdown",
      "metadata": {
        "id": "9LxBAbT2Pw33"
      },
      "source": [
        "### `Q-9:` Arrays\n",
        "\n",
        "You are given a space separated list of numbers. Your task is to print a reversed NumPy array with the element type float.\n",
        "\n"
      ]
    },
    {
      "cell_type": "markdown",
      "metadata": {
        "id": "JJpqVms2Nq7L"
      },
      "source": [
        "**Input Format:**\n",
        "\n",
        "A single line of input containing space separated numbers.\n",
        "\n",
        "**Output Format:**\n",
        "\n",
        "Print the reverse NumPy array with type float.\n",
        "\n",
        "**Example 1:**\n",
        "\n",
        "Input:\n",
        "\n",
        "```bash\n",
        "1 2 3 4 -8 -10\n",
        "```\n",
        "\n",
        "Output:\n",
        "\n",
        "```bash\n",
        "[-10.  -8.   4.   3.   2.   1.]\n",
        "```"
      ]
    },
    {
      "cell_type": "code",
      "execution_count": null,
      "metadata": {
        "id": "7iQyg6ChNl3j",
        "outputId": "b9e64272-1637-46ec-802f-93c8dbafd491"
      },
      "outputs": [
        {
          "name": "stdin",
          "output_type": "stream",
          "text": [
            " 2 5 6\n"
          ]
        },
        {
          "data": {
            "text/plain": [
              "array([6., 5., 2.], dtype=float32)"
            ]
          },
          "execution_count": 37,
          "metadata": {},
          "output_type": "execute_result"
        }
      ],
      "source": [
        "#Code here\n",
        "a = input().strip().split()\n",
        "np.array(a[::-1], dtype=np.float32)"
      ]
    },
    {
      "cell_type": "markdown",
      "metadata": {
        "id": "TPxD7jM8Sjz9"
      },
      "source": [
        "### `Q-10:` Elements count\n",
        "\n",
        "Count the number of elements of a numpy array.\n",
        "\n"
      ]
    },
    {
      "cell_type": "markdown",
      "metadata": {
        "id": "oHTiTz_jNkAU"
      },
      "source": [
        "**Example 1:**\n",
        "\n",
        "Input:\n",
        "```bash\n",
        "np.array([])\n",
        "```\n",
        "\n",
        "Output:\n",
        "```bash\n",
        "elements_count :  0\n",
        "```\n",
        "\n",
        "**Example 2:**\n",
        "\n",
        "Input:\n",
        "```bash\n",
        "np.array([1, 2])\n",
        "```\n",
        "\n",
        "Output:\n",
        "```bash\n",
        "elements_count :  2\n",
        "```"
      ]
    },
    {
      "cell_type": "code",
      "execution_count": null,
      "metadata": {
        "id": "RG0H2I-TNeGN",
        "outputId": "50d356e7-c2e9-43f7-d58f-96d263df96c6"
      },
      "outputs": [
        {
          "data": {
            "text/plain": [
              "6"
            ]
          },
          "execution_count": 40,
          "metadata": {},
          "output_type": "execute_result"
        }
      ],
      "source": [
        "#Code here\n",
        "a = np.array([])\n",
        "a = np.array([1, 2])\n",
        "a = np.zeros((2,3))\n",
        "a.size"
      ]
    },
    {
      "cell_type": "markdown",
      "metadata": {
        "id": "pwgPz-3l5ic5"
      },
      "source": [
        "### `Q-11:` Softmax function\n",
        "\n",
        "Create a Python function to calculate the Softmax of the given numpy 1D array. The function only accepts the numpy 1D array, otherwise raise error.\n",
        "\n",
        "$$\\Large \\sigma(\\vec z)_i = \\frac{e^{z_i}}{\\sum_{j=i}^{K}{e^{z_j}}}$$\n",
        "\n",
        "https://en.wikipedia.org/wiki/Softmax_function\n",
        "\n"
      ]
    },
    {
      "cell_type": "markdown",
      "metadata": {
        "id": "eZ3WJt6UM1ul"
      },
      "source": [
        "**Example 1:**\n",
        "\n",
        "Input:\n",
        "```bash\n",
        "[86.03331084 37.7285648  48.64908087 87.16563062 38.40852563 37.20006318]\n",
        "```\n",
        "\n",
        "Output:\n",
        "```bash\n",
        "[2.43733249e-01, 2.56112115e-22, 1.41628284e-17, 7.56266751e-01, \n",
        "       5.05514197e-22, 1.50974911e-22]\n",
        "```\n",
        "\n",
        "**Example 2:**\n",
        "\n",
        "Input:\n",
        "```bash\n",
        "[33.17344305 45.61961654 82.05405781 80.9647098  68.82830233 91.52064278]\n",
        "```\n",
        "\n",
        "Output:\n",
        "```bash\n",
        "[4.57181035e-26, 1.16249923e-20, 7.73872596e-05, 2.60358426e-05,\n",
        "       1.39571531e-10, 9.99896577e-01]\n",
        "```"
      ]
    },
    {
      "cell_type": "code",
      "execution_count": null,
      "metadata": {
        "id": "VNzj05lkNaNi",
        "outputId": "7c6f3a81-c7c2-46c9-e186-0062d87fbe11"
      },
      "outputs": [
        {
          "data": {
            "text/plain": [
              "array([2.43733248e-01, 2.56112114e-22, 1.41628283e-17, 7.56266752e-01,\n",
              "       5.05514197e-22, 1.50974911e-22])"
            ]
          },
          "execution_count": 47,
          "metadata": {},
          "output_type": "execute_result"
        }
      ],
      "source": [
        "#Code here\n",
        "def softmax(arr):\n",
        "    if type(arr) != np.ndarray:\n",
        "        raise TypeError(\"Requires Numpy Array\")\n",
        "    elif arr.ndim > 1:\n",
        "        raise TypeError(\"Requires 1D Array\")\n",
        "    s = np.sum(np.exp(arr))\n",
        "    return np.exp(arr)/s\n",
        "softmax(np.array([86.03331084, 37.7285648,  48.64908087, 87.16563062, 38.40852563, 37.20006318]))"
      ]
    },
    {
      "cell_type": "markdown",
      "metadata": {
        "id": "k4JWSwWu_HXg"
      },
      "source": [
        "### `Q-12:` Vertical stack\n",
        "\n",
        "Write a python function that accepts infinite number of numpy arrays and do the vertical stack to them. Then return that new array as result. The function only accepts the numpy array, otherwise raise error.\n",
        "\n"
      ]
    },
    {
      "cell_type": "markdown",
      "metadata": {
        "id": "XhhV3mraNAWr"
      },
      "source": [
        "**Example 1:**\n",
        "\n",
        "Input:\n",
        "```bash\n",
        "a= [[0 1 2 3 4]\n",
        " [5 6 7 8 9]]\n",
        "\n",
        "b= [[1 1 1 1 1]\n",
        " [1 1 1 1 1]]\n",
        "```\n",
        "\n",
        "Output:\n",
        "\n",
        "```bash\n",
        "[[0 1 2 3 4]\n",
        " [5 6 7 8 9]\n",
        " [1 1 1 1 1]\n",
        " [1 1 1 1 1]]\n",
        "```\n",
        "\n",
        "**Example 2:**\n",
        "\n",
        "Input:\n",
        "```bash\n",
        "a= [[0 1 2 3 4]\n",
        " [5 6 7 8 9]]\n",
        "\n",
        "b= [[1 1 1 1 1]\n",
        " [1 1 1 1 1]]\n",
        "\n",
        "c= [[0.10117373 0.1677244  0.73764059 0.83166097 0.48985695]\n",
        " [0.44581567 0.13502419 0.55692335 0.16479622 0.61193593]] \n",
        "```\n",
        "\n",
        "Output:\n",
        "```bash\n",
        "[[0.         1.         2.         3.         4.        ]\n",
        " [5.         6.         7.         8.         9.        ]\n",
        " [1.         1.         1.         1.         1.        ]\n",
        " [1.         1.         1.         1.         1.        ]\n",
        " [0.10117373 0.1677244  0.73764059 0.83166097 0.48985695]\n",
        " [0.44581567 0.13502419 0.55692335 0.16479622 0.61193593]]\n",
        "```"
      ]
    },
    {
      "cell_type": "code",
      "execution_count": null,
      "metadata": {
        "id": "dhtnbSj6NP8z",
        "outputId": "ae9b1616-31a5-4f56-8a69-5388df817c2f"
      },
      "outputs": [
        {
          "name": "stdout",
          "output_type": "stream",
          "text": [
            "a= [[0 1 2 3 4]\n",
            " [5 6 7 8 9]]\n",
            "b= [[1 1 1 1 1]\n",
            " [1 1 1 1 1]]\n",
            "[[0 1 2 3 4]\n",
            " [5 6 7 8 9]\n",
            " [1 1 1 1 1]\n",
            " [1 1 1 1 1]]\n",
            "c= [[0.21639132 0.32821234 0.75890757 0.25967328 0.53357754]\n",
            " [0.42222234 0.05588129 0.74444709 0.81171534 0.11995402]]\n"
          ]
        },
        {
          "data": {
            "text/plain": [
              "array([[0.        , 1.        , 2.        , 3.        , 4.        ],\n",
              "       [5.        , 6.        , 7.        , 8.        , 9.        ],\n",
              "       [1.        , 1.        , 1.        , 1.        , 1.        ],\n",
              "       [1.        , 1.        , 1.        , 1.        , 1.        ],\n",
              "       [0.21639132, 0.32821234, 0.75890757, 0.25967328, 0.53357754],\n",
              "       [0.42222234, 0.05588129, 0.74444709, 0.81171534, 0.11995402]])"
            ]
          },
          "execution_count": 51,
          "metadata": {},
          "output_type": "execute_result"
        }
      ],
      "source": [
        "#Coder here\n",
        "def vertical_stack(*args):\n",
        "    for i in args:\n",
        "        if type(i) != np.ndarray:\n",
        "            raise TypeError(\"Requires Numpy Array\")\n",
        "    return np.vstack(args)\n",
        "\n",
        "a = np.arange(10).reshape(2, -1)\n",
        "print(\"a=\",a)\n",
        "b = np.repeat(1, 10).reshape(2, -1)\n",
        "print(\"b=\",b)\n",
        "print(vertical_stack(a,b))\n",
        "c = np.random.random((2,5))\n",
        "print(\"c=\", c)\n",
        "vertical_stack(a,b,c)"
      ]
    },
    {
      "cell_type": "markdown",
      "metadata": {
        "id": "3mk8T6CuC2DP"
      },
      "source": [
        "### `Q-13:` Dates\n",
        "\n",
        "Create a python function named **date_array** that accepts two dates as string format and returns a numpy array of dates between those 2 dates. The function only accept 2 strings, otherwise raise error. The date format should be like this only: `2022-12-6`. The end date should be included and for simplicity, choose dates from a same year.\n",
        "\n"
      ]
    },
    {
      "cell_type": "markdown",
      "metadata": {
        "id": "E3IgjnTTNFEk"
      },
      "source": [
        "**Example 1:**\n",
        "\n",
        "Input:\n",
        "```bash\n",
        "date_array(start = '2020-09-15', end = '2020-09-25')\n",
        "```\n",
        "\n",
        "Output:\n",
        "```bash\n",
        "['2020-09-15', '2020-09-16', '2020-09-17', '2020-09-18',\n",
        " '2020-09-19', '2020-09-20', '2020-09-21', '2020-09-22',\n",
        " '2020-09-23', '2020-09-24', '2020-09-25']\n",
        "```\n",
        "\n",
        "**Example 2:**\n",
        "\n",
        "Input:\n",
        "```bash\n",
        "date_array(start = '2022-12-01', end = '2022-12-06')\n",
        "```\n",
        "\n",
        "Output:\n",
        "```bash\n",
        "['2022-12-01', '2022-12-02', '2022-12-03', '2022-12-04', '2022-12-05', '2022-12-06']\n",
        "```\n",
        "\n",
        "**Example 3:**\n",
        "\n",
        "Input:\n",
        "```bash\n",
        "date_array(start = '2020-11-25', end = '2020-11-30')\n",
        "```\n",
        "\n",
        "Output:\n",
        "```bash\n",
        "['2020-11-25', '2020-11-26', '2020-11-27', '2020-11-28',\n",
        " '2020-11-29', '2020-11-30']\n",
        "```"
      ]
    },
    {
      "cell_type": "code",
      "execution_count": null,
      "metadata": {
        "id": "Yj5PBfQQNTnL",
        "outputId": "64c9e26e-9995-47d8-ee85-d562b0ae76d5"
      },
      "outputs": [
        {
          "data": {
            "text/plain": [
              "array(['2020-11-25', '2020-11-26', '2020-11-27', '2020-11-28',\n",
              "       '2020-11-29', '2020-11-30'], dtype='datetime64[D]')"
            ]
          },
          "execution_count": 66,
          "metadata": {},
          "output_type": "execute_result"
        }
      ],
      "source": [
        "#Code here\n",
        "\n",
        "def date_array(start: str, end: str):\n",
        "    if type(start) != str or type(end) != str:\n",
        "        raise TypeError\n",
        "        \n",
        "    total_days_of_month = {\"01\": 31, \"02\": 28, \"03\": 31, \"04\":30, \"05\": 31, \"06\":30, \"07\":31, \"08\":31, \"09\":30, \"10\": 31, \"11\":30, \"12\":31}\n",
        "\n",
        "    end = end.split(\"-\")\n",
        "    end_last = int(end[-1]) + 1\n",
        "    \n",
        "    # If the next day of end falls in the next month, account for that\n",
        "    if total_days_of_month[end[-2]] < end_last:\n",
        "        days_diff = end_last - total_days_of_month[end[-2]]\n",
        "        end[-1] = f'0{days_diff}' if days_diff< 10 else f'{days_diff}'\n",
        "        next_month = int(end[-2]) + 1\n",
        "        end[-2] = f'0{next_month}' if next_month< 10 else f'{next_month}'\n",
        "    else:\n",
        "        end[-1] = f'0{end_last}' if end_last < 10 else f'{end_last}'\n",
        "    end = \"-\".join(end)\n",
        "    return np.arange(start, end, dtype=\"datetime64[D]\")    # Use arange() to generate all dates between start and end \n",
        "date_array(start = '2020-11-25', end = '2020-11-30')"
      ]
    },
    {
      "cell_type": "markdown",
      "metadata": {
        "id": "bcEp0wTWQijK"
      },
      "source": [
        "### `Q-14:` Subtract the mean of each row from a matrix."
      ]
    },
    {
      "cell_type": "code",
      "execution_count": null,
      "metadata": {
        "id": "rpILVGcgQzMo",
        "outputId": "fe5f093c-49ff-4a5d-e47e-68435c30b832"
      },
      "outputs": [
        {
          "data": {
            "text/plain": [
              "array([[-0.06845162,  0.15698291, -0.07289683, -0.01563446],\n",
              "       [ 0.01134548,  0.11410879,  0.19929023, -0.32474449],\n",
              "       [-0.26055217,  0.40783042,  0.07308281, -0.22036106],\n",
              "       [ 0.10630007, -0.27265075,  0.37913096, -0.21278028],\n",
              "       [ 0.23016348, -0.03754832,  0.05033272, -0.24294787]])"
            ]
          },
          "execution_count": 74,
          "metadata": {},
          "output_type": "execute_result"
        }
      ],
      "source": [
        "#code here\n",
        "x = np.random.random((5,4))\n",
        "x - x.mean(axis = 1, keepdims = True)"
      ]
    },
    {
      "cell_type": "markdown",
      "metadata": {
        "id": "A-dMVlPPSBTT"
      },
      "source": [
        "### `Q-15:` Swap column-1 of array with column-2 in the array."
      ]
    },
    {
      "cell_type": "code",
      "execution_count": null,
      "metadata": {
        "id": "3RtngM9-Q6S7",
        "outputId": "bef59b49-cdc6-450b-e7c2-a424e54a41d8"
      },
      "outputs": [
        {
          "data": {
            "text/plain": [
              "array([[0, 2, 1],\n",
              "       [3, 5, 4],\n",
              "       [6, 8, 7]])"
            ]
          },
          "execution_count": 76,
          "metadata": {},
          "output_type": "execute_result"
        }
      ],
      "source": [
        "#Code here\n",
        "a = np.arange(9).reshape(3,3)\n",
        "a[:, [0, 2, 1]]"
      ]
    },
    {
      "cell_type": "code",
      "execution_count": null,
      "metadata": {
        "id": "ueoMV_LlSnGU"
      },
      "outputs": [],
      "source": []
    },
    {
      "cell_type": "markdown",
      "metadata": {
        "id": "cB4VMexvS6Zi"
      },
      "source": [
        "### `Q-16:` Replace odd elements in arrays with -1."
      ]
    },
    {
      "cell_type": "code",
      "execution_count": null,
      "metadata": {
        "id": "Bt83nXEVS5O4",
        "outputId": "b90a7fb1-7f2c-4d80-8633-10d702a593b0"
      },
      "outputs": [
        {
          "data": {
            "text/plain": [
              "array([ 0, -1,  2, -1,  4, -1,  6, -1,  8, -1])"
            ]
          },
          "execution_count": 80,
          "metadata": {},
          "output_type": "execute_result"
        }
      ],
      "source": [
        "#Code here\n",
        "a = np.arange(10)\n",
        "a[a%2 == 1] = -1\n",
        "a"
      ]
    },
    {
      "cell_type": "code",
      "execution_count": null,
      "metadata": {
        "id": "1ZlvMaXLVyoW"
      },
      "outputs": [],
      "source": []
    },
    {
      "cell_type": "markdown",
      "metadata": {
        "id": "kf_qvmBxWIT_"
      },
      "source": [
        "### `Q-17:` Given two arrays of same shape make an array of max out of two arrays. (Numpy way)\n",
        "```\n",
        "a=np.array([6,3,1,5,8])\n",
        "b=np.array([3,2,1,7,2])\n",
        "\n",
        "Result-> [6 3 1 7 8]\n",
        "``` "
      ]
    },
    {
      "cell_type": "code",
      "execution_count": null,
      "metadata": {
        "id": "TB9ZvF-EZSfu",
        "outputId": "5ddff673-d0c5-430f-d48c-7cb79ff6acc6"
      },
      "outputs": [
        {
          "data": {
            "text/plain": [
              "array([6, 3, 1, 7, 8])"
            ]
          },
          "execution_count": 84,
          "metadata": {},
          "output_type": "execute_result"
        }
      ],
      "source": [
        "#Code here\n",
        "a=np.array([6,3,1,5,8])\n",
        "b=np.array([3,2,1,7,2])\n",
        "\n",
        "a[b>a] = b[a<b]\n",
        "a"
      ]
    },
    {
      "cell_type": "code",
      "execution_count": null,
      "metadata": {
        "id": "D7ad-A6jZzCL"
      },
      "outputs": [],
      "source": []
    },
    {
      "cell_type": "markdown",
      "metadata": {
        "id": "iOQLUIeGc3zA"
      },
      "source": [
        "### `Q-18` Answer below asked questions on given array:\n",
        "1. Fetch Every alternate column of the array\n",
        "2. Normalise the given array\n",
        "\n",
        "https://en.wikipedia.org/wiki/Normalization_(statistics)\n",
        "\n",
        "There are different form of normalisation for this question use below formula.\n",
        "\n",
        "$$\\large X_{normalized} = \\frac{X - X_{min}}{X_{max} - X_{min}}$$\n",
        "\n",
        "```python\n",
        "arr1=np.random.randint(low=1, high=10000, size=40).reshape(8,5)\n",
        "```\n"
      ]
    },
    {
      "cell_type": "code",
      "execution_count": null,
      "metadata": {
        "colab": {
          "base_uri": "https://localhost:8080/"
        },
        "id": "vjSm18k3d_1p",
        "outputId": "83d23b61-d2ae-41bc-e91e-0e0722667521"
      },
      "outputs": [
        {
          "data": {
            "text/plain": [
              "array([[5004, 6405, 1638, 2845, 3510],\n",
              "       [6966, 3244, 2711, 4785, 7351],\n",
              "       [ 689, 8978,  572, 3661,  245],\n",
              "       [5895, 4114, 4716, 2627, 4822],\n",
              "       [ 994, 2038, 5624, 5577, 2819],\n",
              "       [9362, 7754, 7941, 4262, 2240],\n",
              "       [5707, 5418, 9980,  255, 4026],\n",
              "       [8057, 3557, 8667, 7068, 8319]])"
            ]
          },
          "execution_count": 86,
          "metadata": {},
          "output_type": "execute_result"
        }
      ],
      "source": [
        "# Given\n",
        "arr1=np.random.randint(low=1, high=10000, size=40).reshape(8,5)\n",
        "arr1"
      ]
    },
    {
      "cell_type": "code",
      "execution_count": null,
      "metadata": {
        "id": "d7u8DB47eBfQ",
        "outputId": "aaee3b73-549a-47da-8ce3-492d5a3107bb"
      },
      "outputs": [
        {
          "data": {
            "text/plain": [
              "array([[5004, 1638, 3510],\n",
              "       [6966, 2711, 7351],\n",
              "       [ 689,  572,  245],\n",
              "       [5895, 4716, 4822],\n",
              "       [ 994, 5624, 2819],\n",
              "       [9362, 7941, 2240],\n",
              "       [5707, 9980, 4026],\n",
              "       [8057, 8667, 8319]])"
            ]
          },
          "execution_count": 90,
          "metadata": {},
          "output_type": "execute_result"
        }
      ],
      "source": [
        "#Code here\n",
        "#1\n",
        "arr1[:, ::2]"
      ]
    },
    {
      "cell_type": "code",
      "execution_count": null,
      "metadata": {
        "id": "3w5EQ1Emi6yT",
        "outputId": "29211c85-e968-4e70-fe09-369df12c6b42"
      },
      "outputs": [
        {
          "data": {
            "text/plain": [
              "array([[0.48885465, 0.63276836, 0.14309194, 0.26707756, 0.33538778],\n",
              "       [0.69039548, 0.30806369, 0.25331279, 0.4663585 , 0.7299435 ],\n",
              "       [0.04560863, 0.89707242, 0.03359014, 0.35089882, 0.        ],\n",
              "       [0.58038007, 0.39743195, 0.45927067, 0.24468413, 0.47015922],\n",
              "       [0.07693888, 0.18418079, 0.55254237, 0.54771443, 0.26440678],\n",
              "       [0.93651772, 0.77134052, 0.79054956, 0.41263482, 0.20493066],\n",
              "       [0.56106831, 0.53138161, 1.        , 0.00102722, 0.3883924 ],\n",
              "       [0.80246533, 0.34021572, 0.86512583, 0.70087314, 0.82937853]])"
            ]
          },
          "execution_count": 93,
          "metadata": {},
          "output_type": "execute_result"
        }
      ],
      "source": [
        "(arr1 - arr1.min())/(arr1.max() - arr1.min())"
      ]
    },
    {
      "cell_type": "markdown",
      "metadata": {
        "id": "jCzsVEKLgGNo"
      },
      "source": [
        "### `Q-19:` Write a function which will accept 2 arguments.\n",
        "First: A 1D numpy array arr\n",
        "\n",
        "Second: An integer n {Please make sure n<=len(arr)}\n",
        "\n",
        "Output: The output should be the nth largest item out of the array\n",
        "```\n",
        "# Example1 : arr=(12,34,40,7,1,0) and n=3, the output should be 12\n",
        "# Example2 : arr=(12,34,40,7,1,0) and n=1, the output should be 40\n",
        "```"
      ]
    },
    {
      "cell_type": "code",
      "execution_count": null,
      "metadata": {
        "id": "J4AzkDk7gXSG",
        "outputId": "8ad81897-5f7a-4575-f008-889484d73468"
      },
      "outputs": [
        {
          "data": {
            "text/plain": [
              "34"
            ]
          },
          "execution_count": 96,
          "metadata": {},
          "output_type": "execute_result"
        }
      ],
      "source": [
        "#Code here\n",
        "def nthmax(arr, n):\n",
        "    if n>len(arr):\n",
        "        raise IndexError(\"n is way out of limit\")\n",
        "    arr.sort()\n",
        "    return arr[-n]\n",
        "nthmax(np.array([12,34,40,7,1,0]),2)"
      ]
    },
    {
      "cell_type": "markdown",
      "metadata": {
        "id": "ja0xPCgjhBsg"
      },
      "source": [
        "### `Q-20:` Create the following pattern without hardcoding. Use only numpy functions and the below input array a.\n",
        "```\n",
        "# Input: a = np.array([1,2,3])\n",
        "# Output: array([1, 1, 1, 2, 2, 2, 3, 3, 3, 1, 2, 3, 1, 2, 3, 1, 2, 3])\n",
        "```"
      ]
    },
    {
      "cell_type": "code",
      "execution_count": null,
      "metadata": {
        "id": "CndS8TTNhG0F",
        "outputId": "bfb69499-c8a6-4969-9fa6-2368d03874c9"
      },
      "outputs": [
        {
          "data": {
            "text/plain": [
              "array([1, 1, 1, 2, 2, 2, 3, 3, 3, 1, 2, 3, 1, 2, 3, 1, 2, 3])"
            ]
          },
          "execution_count": 99,
          "metadata": {},
          "output_type": "execute_result"
        }
      ],
      "source": [
        "#code here\n",
        "a = np.array([1,2,3])\n",
        "np.hstack([np.repeat(a, 3), np.tile(a, 3)])"
      ]
    },
    {
      "cell_type": "code",
      "execution_count": null,
      "metadata": {
        "id": "ySxcVaCui6yV"
      },
      "outputs": [],
      "source": []
    }
  ],
  "metadata": {
    "colab": {
      "provenance": []
    },
    "kernelspec": {
      "display_name": "Python 3 (ipykernel)",
      "language": "python",
      "name": "python3"
    },
    "language_info": {
      "codemirror_mode": {
        "name": "ipython",
        "version": 3
      },
      "file_extension": ".py",
      "mimetype": "text/x-python",
      "name": "python",
      "nbconvert_exporter": "python",
      "pygments_lexer": "ipython3",
      "version": "3.9.13"
    }
  },
  "nbformat": 4,
  "nbformat_minor": 0
}