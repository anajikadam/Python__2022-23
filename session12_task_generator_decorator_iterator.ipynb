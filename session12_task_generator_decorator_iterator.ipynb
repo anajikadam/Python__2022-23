{
  "cells": [
    {
      "cell_type": "markdown",
      "metadata": {
        "id": "hM8V4LxHKV6x"
      },
      "source": [
        "## Namespace and Scope"
      ]
    },
    {
      "cell_type": "markdown",
      "metadata": {
        "id": "Kl3s2TonKYgY"
      },
      "source": [
        "### `Q1:` Write `Person` Class as given below and then display it's namespace.\n",
        "\n"
      ]
    },
    {
      "cell_type": "markdown",
      "metadata": {
        "id": "grudG97hL83C"
      },
      "source": [
        "```\n",
        "Class Name - Person\n",
        "\n",
        "Attributes:\n",
        "name - public\n",
        "state - public\n",
        "city - private\n",
        "age - private\n",
        "\n",
        "Methods:\n",
        "address - public\n",
        "It give address of the person as \"<name>, <city>, <state>\"\n",
        "```"
      ]
    },
    {
      "cell_type": "code",
      "execution_count": null,
      "metadata": {
        "id": "BRq-I4jmKX0U",
        "outputId": "9746da07-6267-40ce-9ae4-e148b2e2f734"
      },
      "outputs": [
        {
          "name": "stdout",
          "output_type": "stream",
          "text": [
            "__module__\n",
            "__init__\n",
            "set_city\n",
            "get_city\n",
            "set_age\n",
            "get_age\n",
            "address\n",
            "__dict__\n",
            "__weakref__\n",
            "__doc__\n"
          ]
        }
      ],
      "source": [
        "#Write your code here\n",
        "class Person:\n",
        "    def __init__(self, name, state):\n",
        "        self.name = name\n",
        "        self.state = state\n",
        "        self.__city = None\n",
        "        self.__age = None\n",
        "    def set_city(self, city):\n",
        "        self.__city = city\n",
        "    def get_city(self):\n",
        "        return self.__city\n",
        "    def set_age(self, age):\n",
        "        self.__age = age\n",
        "    def get_age(self):\n",
        "        return self.__age\n",
        "    def address(self):\n",
        "        return f'{self.name}, {self.__city}, {self.state}'\n",
        "\n",
        "for i in Person.__dict__:\n",
        "    print(i)"
      ]
    },
    {
      "cell_type": "markdown",
      "metadata": {
        "id": "NLtOPOXDL_zB"
      },
      "source": [
        "### `Q2:` Write a program to show namespace of object/instance of above(Person) class."
      ]
    },
    {
      "cell_type": "code",
      "execution_count": null,
      "metadata": {
        "id": "w3fj9tf0MJ3Z",
        "outputId": "16ade42e-b783-46bb-b072-52f94d08d00a"
      },
      "outputs": [
        {
          "name": "stdout",
          "output_type": "stream",
          "text": [
            "Address:  Raj, Kolkata, West Bengal\n",
            "name\n",
            "state\n",
            "_Person__city\n",
            "_Person__age\n"
          ]
        }
      ],
      "source": [
        "# Write your code here\n",
        "p = Person(\"Raj\", \"West Bengal\")\n",
        "p.set_city(\"Kolkata\")\n",
        "p.set_age(40)\n",
        "print(\"Address: \", p.address())\n",
        "\n",
        "for i in p.__dict__:\n",
        "    print(i)"
      ]
    },
    {
      "cell_type": "markdown",
      "metadata": {
        "id": "rRnCZmlUY8sn"
      },
      "source": [
        "### `Q3:` Write a recursive program to to calculate `gcd` and print no. of function calls taken to find the solution.\n",
        "```\n",
        "gcd(5,10) -> result in 5 as gcd and function call 3\n",
        "```"
      ]
    },
    {
      "cell_type": "code",
      "execution_count": null,
      "metadata": {
        "id": "jYiVzxhUZRln",
        "outputId": "4cfd7947-f742-4c2d-ea78-7a960226ec77"
      },
      "outputs": [
        {
          "name": "stdout",
          "output_type": "stream",
          "text": [
            "5 2\n"
          ]
        }
      ],
      "source": [
        "#Write your code here\n",
        "# O(log(min(a,b)))\n",
        "\n",
        "counter = 0\n",
        "def gcd(a,b):\n",
        "    global counter\n",
        "    counter += 1\n",
        "    if b == 0:\n",
        "        return a\n",
        "    else:\n",
        "        return gcd(b, a%b)\n",
        "print(gcd(10, 5), counter)"
      ]
    },
    {
      "cell_type": "markdown",
      "metadata": {
        "id": "FbDepR9QNGnh"
      },
      "source": [
        "## Iterator And Generator"
      ]
    },
    {
      "cell_type": "markdown",
      "metadata": {
        "id": "Nj5WaR_4NJTu"
      },
      "source": [
        "### `Q4:` Create MyEnumerate class, \n",
        "Create your own `MyEnumerate` class such that someone can use it instead of enumerate. It will need to return a `tuple` with each iteration, with the first element in the tuple being the `index` (starting with 0) and the second element being the `current element` from the underlying data structure. Trying to use `MyEnumerate` with a noniterable argument will result in an error.\n",
        "\n",
        "```\n",
        "for index, letter in MyEnumerate('abc'):\n",
        "    print(f'{index} : {letter}')\n",
        "```\n",
        "\n",
        "Output:\n",
        "```\n",
        "0 : a\n",
        "1 : b\n",
        "2 : c\n",
        "```"
      ]
    },
    {
      "cell_type": "code",
      "execution_count": null,
      "metadata": {
        "id": "6zjcm2gxNbfJ",
        "outputId": "849d4bd0-d76d-482b-db29-9da495781b0a"
      },
      "outputs": [
        {
          "name": "stdout",
          "output_type": "stream",
          "text": [
            "0 : a\n",
            "1 : b\n",
            "2 : c\n"
          ]
        }
      ],
      "source": [
        "#Write your code here\n",
        "   \n",
        "class MyEnumerate:\n",
        "    def __init__(self, data):\n",
        "        self.data = data\n",
        "        self.index = 0\n",
        "    def __iter__(self):\n",
        "        return self\n",
        "    def __next__(self):\n",
        "        if self.index >= len(self.data):\n",
        "            raise StopIteration\n",
        "        value = (self.index, self.data[self.index])\n",
        "        self.index += 1\n",
        "        return value\n",
        "for index, letter in MyEnumerate('abc'):\n",
        "    print(f'{index} : {letter}')"
      ]
    },
    {
      "cell_type": "markdown",
      "metadata": {
        "id": "U2Ai7rVDOLBw"
      },
      "source": [
        "### `Q5:` Iterate in circle\n",
        "Define a class, `Circle`, that takes two arguments when defined: a sequence and a number. The idea is that the object will then return elements the defined number of times. If the number is greater than the number of elements, then the sequence  repeats as necessary. You can define an another class used as a helper (like I call `CircleIterator`).\n",
        "\n",
        "```\n",
        "c = Circle('abc', 5)\n",
        "d = Circle('abc', 7)\n",
        "print(list(c))\n",
        "print(list(d))\n",
        "```\n",
        "\n",
        "Output\n",
        "```\n",
        "[a, b, c, a, b]\n",
        "[a, b, c, a, b, c, a]\n",
        "```"
      ]
    },
    {
      "cell_type": "code",
      "execution_count": null,
      "metadata": {
        "id": "iwcTy1HyO5hs",
        "outputId": "4ff8a12f-a63c-4b23-8de7-ebbe866bd26d"
      },
      "outputs": [
        {
          "name": "stdout",
          "output_type": "stream",
          "text": [
            "['a', 'b', 'c', 'a', 'b']\n",
            "['a', 'b', 'c', 'a', 'b', 'c', 'a']\n"
          ]
        }
      ],
      "source": [
        "#Write your code here\n",
        "class Circle:\n",
        "    def __init__(self, data, max_iters):\n",
        "        self.data = data\n",
        "        self.index = 0\n",
        "        self.max_iters = max_iters\n",
        "    \n",
        "    def __iter__(self):\n",
        "        return self\n",
        "    def __next__(self):\n",
        "        if self.index >= self.max_iters:\n",
        "            raise StopIteration\n",
        "        value = self.data[self.index % len(self.data)]\n",
        "        self.index += 1\n",
        "        return value\n",
        "c = Circle('abc', 5)\n",
        "d = Circle('abc', 7)\n",
        "print(list(c))\n",
        "print(list(d))\n"
      ]
    },
    {
      "cell_type": "markdown",
      "metadata": {
        "id": "17KyhciKQnAE"
      },
      "source": [
        "### `Q6:` Generator time elapsed\n",
        "Write a generator function whose argument must be iterable. With each iteration, the generator will return a two-element tuple. The first element in the tuple will be an integer indicating how many seconds have passed since the previous iteration. The tuple’s second element will be the next item from the passed argument.\n",
        "\n",
        "Note that the timing should be relative to the previous iteration, not when the\n",
        "generator was first created or invoked. Thus the timing number in the first iteration\n",
        "will be 0\n",
        "\n",
        "```\n",
        "for t in elapsed_since('abcd'):\n",
        "    print(t)\n",
        "    time.sleep(2)\n",
        "```\n",
        "\n",
        "Output:\n",
        "```\n",
        "(0.0, 'a')\n",
        "(2.005651817999933, 'b')\n",
        "(2.0023095009998997, 'c')\n",
        "(2.001949742000079, 'd')\n",
        "```\n",
        "Note: Your output may differ because of diffrent system has different processing configuration."
      ]
    },
    {
      "cell_type": "code",
      "execution_count": null,
      "metadata": {
        "id": "UkH1tj9zQ-gc",
        "outputId": "6048c225-2854-445f-a189-8d8233ab27ad"
      },
      "outputs": [
        {
          "name": "stdout",
          "output_type": "stream",
          "text": [
            "(1.3999999737279722e-06, 'a')\n",
            "(2.005139500000041, 'b')\n",
            "(2.0140556999999717, 'c')\n",
            "(2.0137271000000965, 'd')\n"
          ]
        }
      ],
      "source": [
        "#Write yor code\n",
        "import time\n",
        "def elapsed_since(data):\n",
        "    last_time = time.perf_counter()\n",
        "    for item in data:\n",
        "        current_time = time.perf_counter()\n",
        "        delta = current_time - last_time\n",
        "        last_time = current_time\n",
        "        yield (delta, item)\n",
        "\n",
        "for t in elapsed_since('abcd'):\n",
        "    print(t)\n",
        "    time.sleep(2)"
      ]
    },
    {
      "cell_type": "markdown",
      "metadata": {
        "id": "fXr3OJxJSC1j"
      },
      "source": [
        "## Decorators"
      ]
    },
    {
      "cell_type": "markdown",
      "metadata": {
        "id": "xSjvwAt-SFhi"
      },
      "source": [
        "### `Q7:` Write a Python program to make a chain of function decorators (bold, italic, underline etc.) on a given function which prints \"hello world\"\n",
        "\n",
        "```\n",
        "def hello():\n",
        "    return \"hello world\"\n",
        "```\n",
        "\n",
        "```\n",
        "bold - wrap string with <b> tag. <b>Str</b>\n",
        "italic - wrap string with <i> tag. <i>Str</i>\n",
        "underline- wrap string with <u> tag. <u>Str</u>\n",
        "```"
      ]
    },
    {
      "cell_type": "code",
      "execution_count": null,
      "metadata": {
        "id": "prVeZGYlSorr",
        "outputId": "e984702a-ec91-4f00-f736-a92dbb142a21"
      },
      "outputs": [
        {
          "name": "stdout",
          "output_type": "stream",
          "text": [
            "<b><i><u>hello world</u></i></b>\n"
          ]
        }
      ],
      "source": [
        "#Write your code here\n",
        "def make_bold(func):\n",
        "    def wrapped():\n",
        "        return \"<b>\"+ func() + \"</b>\"\n",
        "    return wrapped\n",
        "def make_italic(func):\n",
        "    def wrapped():\n",
        "        return \"<i>\"+ func() + \"</i>\"\n",
        "    return wrapped\n",
        "def make_underline(func):\n",
        "    def wrapped():\n",
        "        return \"<u>\"+ func() + \"</u>\"\n",
        "    return wrapped\n",
        "\n",
        "@make_bold\n",
        "@make_italic\n",
        "@make_underline\n",
        "def hello():\n",
        "    return \"hello world\"\n",
        "\n",
        "print(hello())"
      ]
    },
    {
      "cell_type": "markdown",
      "metadata": {
        "id": "miKBwPy4TQWa"
      },
      "source": [
        "### `Q8:` Write a decorator called `printer` which causes any decorated function to print their return values. If the return value of a given function is `None`, printer should do nothing.\n",
        "\n"
      ]
    },
    {
      "cell_type": "code",
      "execution_count": null,
      "metadata": {
        "id": "05s0poRoT9II",
        "outputId": "e086d2b7-4ccf-4b56-ba08-eb6ffd43f67e"
      },
      "outputs": [
        {
          "name": "stdout",
          "output_type": "stream",
          "text": [
            "hello\n"
          ]
        },
        {
          "data": {
            "text/plain": [
              "'hello'"
            ]
          },
          "execution_count": 24,
          "metadata": {},
          "output_type": "execute_result"
        }
      ],
      "source": [
        "#Write your code here\n",
        "from functools import wraps\n",
        "def printer(func):\n",
        "    @wraps(func)\n",
        "    def inner(*args, **kwargs):\n",
        "        return_value = func(*args, **kwargs)\n",
        "        if return_value is not None:\n",
        "            print(return_value)\n",
        "        return return_value\n",
        "    return inner\n",
        "\n",
        "@printer\n",
        "def hello(string):\n",
        "    return string\n",
        "\n",
        "hello(\"hello\")"
      ]
    },
    {
      "cell_type": "code",
      "execution_count": null,
      "metadata": {
        "id": "pTgVojGK9EA4",
        "outputId": "92687cb1-8eee-44fd-f55d-6e6b5b92f38b"
      },
      "outputs": [
        {
          "name": "stdout",
          "output_type": "stream",
          "text": [
            "Help on function hello in module __main__:\n",
            "\n",
            "hello(string)\n",
            "\n"
          ]
        }
      ],
      "source": [
        "help(hello)"
      ]
    },
    {
      "cell_type": "markdown",
      "metadata": {
        "id": "DWJLjPOnURua"
      },
      "source": [
        "### `Q9:` Make a decorator which calls a given function twice. You can assume the functions don't return anything important, but they may take arguments.\n",
        "```\n",
        "#Lets say given function \n",
        "def hello(string):\n",
        "    print(string)\n",
        "\n",
        "#on calling after specified decorator is inplaced\n",
        "hello('hello')\n",
        "```\n",
        "\n",
        "Output:\n",
        "```\n",
        "hello\n",
        "hello\n",
        "```"
      ]
    },
    {
      "cell_type": "code",
      "execution_count": null,
      "metadata": {
        "id": "e38y0cz7UTdD",
        "outputId": "fb99131d-be87-4585-c2c1-cfefff96324a"
      },
      "outputs": [
        {
          "name": "stdout",
          "output_type": "stream",
          "text": [
            "hello\n",
            "hello\n"
          ]
        }
      ],
      "source": [
        "#Write your cod here\n",
        "def double(func):\n",
        "    @wraps(func)\n",
        "    def inner(*args, **kwargs):\n",
        "        func(*args, **kwargs)\n",
        "        func(*args, **kwargs)\n",
        "    return inner\n",
        "@double\n",
        "def hello(string):\n",
        "    print(string)\n",
        "    \n",
        "hello(\"hello\")"
      ]
    },
    {
      "cell_type": "markdown",
      "metadata": {
        "id": "8btcQI9pWi2w"
      },
      "source": [
        "### `Q10:` Write a decorator which doubles the return value of any function. And test that decoratos is working correctly or not using `asert`.\n",
        "\n",
        "```\n",
        "add(2,3) -> result in 10. Without decorator it should be 5.\n",
        "```"
      ]
    },
    {
      "cell_type": "code",
      "execution_count": null,
      "metadata": {
        "id": "nG6S_zQ9XFb3",
        "outputId": "3338972a-1de9-4af3-cce9-36fc045c3167"
      },
      "outputs": [
        {
          "name": "stdout",
          "output_type": "stream",
          "text": [
            "Values are matching\n"
          ]
        }
      ],
      "source": [
        "# Write your code here\n",
        "def double(func):\n",
        "    @wraps(func)\n",
        "    def inner(*args, **kwargs):\n",
        "        return func(*args, **kwargs) * 2\n",
        "    return inner\n",
        "@double\n",
        "def add_withDeco(a,b):\n",
        "    return a+b\n",
        "\n",
        "def add(a,b):\n",
        "    return a+b\n",
        "\n",
        "a=2\n",
        "b=3\n",
        "assert add(a,b)*2 == add_withDeco(a,b), \"Values are not matching\"\n",
        "print(\"Values are matching\")"
      ]
    },
    {
      "cell_type": "code",
      "execution_count": null,
      "metadata": {
        "id": "hDrgMLJ_9EBD"
      },
      "outputs": [],
      "source": []
    }
  ],
  "metadata": {
    "colab": {
      "provenance": []
    },
    "kernelspec": {
      "display_name": "Python 3 (ipykernel)",
      "language": "python",
      "name": "python3"
    },
    "language_info": {
      "codemirror_mode": {
        "name": "ipython",
        "version": 3
      },
      "file_extension": ".py",
      "mimetype": "text/x-python",
      "name": "python",
      "nbconvert_exporter": "python",
      "pygments_lexer": "ipython3",
      "version": "3.9.13"
    }
  },
  "nbformat": 4,
  "nbformat_minor": 0
}